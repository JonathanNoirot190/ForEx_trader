{
 "cells": [
  {
   "cell_type": "code",
   "execution_count": 1,
   "metadata": {},
   "outputs": [
    {
     "name": "stderr",
     "output_type": "stream",
     "text": [
      "Using TensorFlow backend.\n"
     ]
    }
   ],
   "source": [
    "from pandas import read_csv\n",
    "from datetime import datetime\n",
    "import matplotlib as mpl\n",
    "from matplotlib import pylab as plt\n",
    "import matplotlib.dates as mdates\n",
    "import pandas as pd\n",
    "import collections\n",
    "import seaborn as sns\n",
    "import numpy as np\n",
    "import tensorflow as tf\n",
    "\n",
    "from sklearn.metrics import mean_squared_error\n",
    "from sklearn.preprocessing import MinMaxScaler\n",
    "from keras.models import Sequential\n",
    "from keras.layers import Dense, Dropout, LSTM\n",
    "import pickle\n",
    "from keras import backend as K\n"
   ]
  },
  {
   "cell_type": "code",
   "execution_count": 2,
   "metadata": {
    "scrolled": true
   },
   "outputs": [],
   "source": [
    "# load data\n",
    "\n",
    "currencies = ['EURAUD', 'EURCAD', 'EURCHF', 'EURGBP', 'EURJPY', 'EURUSD']\n",
    "\n",
    "\n",
    "def builData(currencies):\n",
    "    \n",
    "    print('Loading data and parsing date')\n",
    "    \n",
    "    def parse(x):\n",
    "        return datetime.strptime(x, '%Y-%m-%d')\n",
    "    \n",
    "    DF = pd.DataFrame()\n",
    "    \n",
    "    for curr in currencies:\n",
    "\n",
    "        df = read_csv(curr + '.csv', delimiter='\\t')\n",
    "        print('Data loaded succesfully ')\n",
    "        print(df.head(5))\n",
    "        \n",
    "        print('Reading currency: ', curr)\n",
    "        DF[curr] = df['<CLOSE>']\n",
    "\n",
    "        # dataset.index.name = 'date'\n",
    "\n",
    "        # dataset.drop('Unnamed: 0', axis=1, inplace=True)\n",
    "\n",
    "        # mark all NA values with 0\n",
    "\n",
    "    DF.info()\n",
    "    print(DF.head(5))\n",
    "\n",
    "    return DF"
   ]
  },
  {
   "cell_type": "code",
   "execution_count": 13,
   "metadata": {
    "scrolled": false
   },
   "outputs": [
    {
     "name": "stdout",
     "output_type": "stream",
     "text": [
      "Loading data and parsing date\n",
      "Data loaded succesfully \n",
      "       <DATE>    <TIME>   <OPEN>   <HIGH>    <LOW>  <CLOSE>  <TICKVOL>  \\\n",
      "0  2017.01.02  00:00:00  1.45450  1.45682  1.44895  1.45587        485   \n",
      "1  2017.01.02  01:00:00  1.45566  1.45990  1.45246  1.45758        591   \n",
      "2  2017.01.02  02:00:00  1.45742  1.45925  1.45601  1.45755        461   \n",
      "3  2017.01.02  03:00:00  1.45756  1.45864  1.45568  1.45680        372   \n",
      "4  2017.01.02  04:00:00  1.45677  1.45809  1.45546  1.45624        519   \n",
      "\n",
      "       <VOL>  <SPREAD>  \n",
      "0  242500000       360  \n",
      "1  295500000       437  \n",
      "2  230500000       500  \n",
      "3  186000000       283  \n",
      "4  259000000       286  \n",
      "Reading currency:  EURAUD\n",
      "Data loaded succesfully \n",
      "       <DATE>    <TIME>   <OPEN>   <HIGH>    <LOW>  <CLOSE>  <TICKVOL>  \\\n",
      "0  2017.01.02  00:00:00  1.41036  1.41266  1.41036  1.41179        645   \n",
      "1  2017.01.02  01:00:00  1.41259  1.41441  1.41199  1.41293        654   \n",
      "2  2017.01.02  02:00:00  1.41293  1.41293  1.41189  1.41281        657   \n",
      "3  2017.01.02  03:00:00  1.41272  1.41327  1.41055  1.41212        707   \n",
      "4  2017.01.02  04:00:00  1.41178  1.41233  1.40929  1.41063        766   \n",
      "\n",
      "       <VOL>  <SPREAD>  \n",
      "0  260507000       147  \n",
      "1  368372000       160  \n",
      "2  246400000       146  \n",
      "3  329812000       165  \n",
      "4  260862000        81  \n",
      "Reading currency:  EURCAD\n",
      "Data loaded succesfully \n",
      "       <DATE>    <TIME>   <OPEN>   <HIGH>    <LOW>  <CLOSE>  <TICKVOL>  \\\n",
      "0  2017.01.02  00:00:00  1.07001  1.07176  1.06734  1.07122        279   \n",
      "1  2017.01.02  01:00:00  1.07139  1.07153  1.06962  1.07153        447   \n",
      "2  2017.01.02  02:00:00  1.07137  1.07239  1.07021  1.07137        424   \n",
      "3  2017.01.02  03:00:00  1.07145  1.07333  1.07047  1.07333        512   \n",
      "4  2017.01.02  04:00:00  1.07330  1.07333  1.07131  1.07265        480   \n",
      "\n",
      "       <VOL>  <SPREAD>  \n",
      "0  395750000         0  \n",
      "1  378250000       121  \n",
      "2  296700000        97  \n",
      "3  431100000        29  \n",
      "4  626850000        47  \n",
      "Reading currency:  EURCHF\n",
      "Data loaded succesfully \n",
      "       <DATE>    <TIME>   <OPEN>   <HIGH>    <LOW>  <CLOSE>  <TICKVOL>  \\\n",
      "0  2017.01.02  00:00:00  0.85185  0.85238  0.84986  0.85164        507   \n",
      "1  2017.01.02  01:00:00  0.85193  0.85314  0.85022  0.85188        469   \n",
      "2  2017.01.02  02:00:00  0.85181  0.85188  0.85000  0.85171        357   \n",
      "3  2017.01.02  03:00:00  0.85161  0.85277  0.85130  0.85162        481   \n",
      "4  2017.01.02  04:00:00  0.85162  0.85164  0.85091  0.85129        474   \n",
      "\n",
      "        <VOL>  <SPREAD>  \n",
      "0  1914664000        74  \n",
      "1   641650000        44  \n",
      "2   274250000        56  \n",
      "3   433100000        17  \n",
      "4   392950000        29  \n",
      "Reading currency:  EURGBP\n",
      "Data loaded succesfully \n",
      "       <DATE>    <TIME>   <OPEN>   <HIGH>    <LOW>  <CLOSE>  <TICKVOL>  \\\n",
      "0  2017.01.02  00:00:00  122.769  122.973  122.514  122.959        448   \n",
      "1  2017.01.02  01:00:00  122.984  123.084  122.698  122.856        578   \n",
      "2  2017.01.02  02:00:00  122.867  122.928  122.657  122.833        481   \n",
      "3  2017.01.02  03:00:00  122.820  123.102  122.640  122.641        543   \n",
      "4  2017.01.02  04:00:00  122.815  123.025  122.640  122.856        878   \n",
      "\n",
      "        <VOL>  <SPREAD>  \n",
      "0  2350430000       228  \n",
      "1  2008644000       112  \n",
      "2   588400000        90  \n",
      "3   667064000        27  \n",
      "4   747000000        51  \n",
      "Reading currency:  EURJPY\n",
      "Data loaded succesfully \n",
      "       <DATE>    <TIME>   <OPEN>   <HIGH>    <LOW>  <CLOSE>  <TICKVOL>  \\\n",
      "0  2017.01.02  00:00:00  1.05100  1.05192  1.05098  1.05168        485   \n",
      "1  2017.01.02  01:00:00  1.05172  1.05275  1.05172  1.05224        471   \n",
      "2  2017.01.02  02:00:00  1.05223  1.05224  1.05155  1.05193        334   \n",
      "3  2017.01.02  03:00:00  1.05192  1.05236  1.05175  1.05189        412   \n",
      "4  2017.01.02  04:00:00  1.05189  1.05197  1.05127  1.05152        540   \n",
      "\n",
      "       <VOL>  <SPREAD>  \n",
      "0  710164000         0  \n",
      "1  538699000        24  \n",
      "2  219649000        59  \n",
      "3  295150000        35  \n",
      "4  399350000        21  \n",
      "Reading currency:  EURUSD\n",
      "<class 'pandas.core.frame.DataFrame'>\n",
      "RangeIndex: 17034 entries, 0 to 17033\n",
      "Data columns (total 6 columns):\n",
      "EURAUD    17034 non-null float64\n",
      "EURCAD    17034 non-null float64\n",
      "EURCHF    17034 non-null float64\n",
      "EURGBP    17034 non-null float64\n",
      "EURJPY    17034 non-null float64\n",
      "EURUSD    17034 non-null float64\n",
      "dtypes: float64(6)\n",
      "memory usage: 798.5 KB\n",
      "    EURAUD   EURCAD   EURCHF   EURGBP   EURJPY   EURUSD\n",
      "0  1.45587  1.41179  1.07122  0.85164  122.959  1.05168\n",
      "1  1.45758  1.41293  1.07153  0.85188  122.856  1.05224\n",
      "2  1.45755  1.41281  1.07137  0.85171  122.833  1.05193\n",
      "3  1.45680  1.41212  1.07333  0.85162  122.641  1.05189\n",
      "4  1.45624  1.41063  1.07265  0.85129  122.856  1.05152\n"
     ]
    }
   ],
   "source": [
    "curr_key = ['USD']\n",
    "df = builData(currencies)\n",
    "df.to_pickle('EUR')"
   ]
  },
  {
   "cell_type": "code",
   "execution_count": 68,
   "metadata": {},
   "outputs": [],
   "source": [
    "def prepareData(df):\n",
    "    #creating train and test sets\n",
    "\n",
    "    start = 24 * 30 * 18\n",
    "    # df.columns.drop(['Unnamed: 0', 'date'])\n",
    "\n",
    "    dataset = df.values\n",
    "\n",
    "    dataset = np.array(dataset)\n",
    "    dataset = dataset[-start:, :].astype(np.float64)\n",
    "    print(dataset.shape)\n",
    "    n_curr = len(df.columns)\n",
    "\n",
    "    train_size = int(dataset.shape[0]*0.8)\n",
    "\n",
    "    train = dataset[:train_size, :]\n",
    "    valid = dataset[train_size:, :]\n",
    "    #converting dataset into x_train and y_train\n",
    "    scaler = MinMaxScaler(feature_range=(0, 1))\n",
    "    scaled_data = scaler.fit_transform(train)\n",
    "    scaled_data_test = scaler.fit_transform(valid)\n",
    "\n",
    "    x_train, y_train = [], []\n",
    "    x_test, y_test = [], []\n",
    "\n",
    "    lookback = 12\n",
    "    for i in range(lookback,len(train)):\n",
    "        x_train.append(train[i-lookback:i,:])\n",
    "        y_train.append(train[i,:])\n",
    "        \n",
    "    for i in range(lookback,len(valid)):\n",
    "        x_test.append(valid[i-lookback:i,:])\n",
    "        y_test.append(valid[i,:])\n",
    "\n",
    "    x_train, y_train = np.array(x_train), np.array(y_train)\n",
    "    x_test, y_test = np.array(x_test), np.array(y_test)\n",
    "\n",
    "    x_train = np.reshape(x_train, (x_train.shape[0],x_train.shape[1], n_curr))\n",
    "    x_test = np.reshape(x_test, (x_test.shape[0],x_test.shape[1], n_curr))\n",
    "    \n",
    "    y_train = np.reshape(y_train, (y_train.shape[0],y_train.shape[1]))\n",
    "    y_test = np.reshape(y_test, (y_test.shape[0],y_test.shape[1]))\n",
    "    \n",
    "    #indices = np.arange(x_train.shape[0])\n",
    "    #np.random.shuffle(indices)\n",
    "\n",
    "    #x_train = x_train[indices, :, :]\n",
    "    #y_train = y_train[indices, :]\n",
    "    \n",
    "\n",
    "    print(x_train.shape)\n",
    "    \n",
    "    print(y_train.shape)\n",
    "    return x_train, y_train, x_test, y_test, scaler"
   ]
  },
  {
   "cell_type": "code",
   "execution_count": 86,
   "metadata": {},
   "outputs": [],
   "source": [
    "def root_mean_squared_error(y_true, y_pred):\n",
    "    return K.sqrt(K.mean(K.square(y_pred - y_true)))\n",
    "\n",
    "def buildModel(x_train, y_train, curr_key):\n",
    "    i = 0\n",
    "    units = 20*6\n",
    "    epoc = 3\n",
    "    batch = 1\n",
    "    \n",
    "    for curr in curr_key:\n",
    "        # create and fit the LSTM network\n",
    "        model = Sequential()\n",
    "        #model.add(LSTM(units=units, return_sequences=True, input_shape=(x_train.shape[1], 1)))\n",
    "        model.add(LSTM(units=units))\n",
    "        #model.add(Dropout(0.2))\n",
    "        model.add(Dense(6))\n",
    "        X = x_train[:, :, :].reshape(x_train.shape[0], x_train.shape[1], x_train.shape[2])\n",
    "        y = y_train[:, :]\n",
    "        \n",
    "        \n",
    "\n",
    "        model.compile(loss='mean_squared_error', optimizer='Adamax')\n",
    "        history = model.fit(X, y, epochs=epoc, batch_size=batch, verbose=1)\n",
    "        filename = curr + '_model.sav'\n",
    "        pickle.dump(model, open(filename, 'wb'))\n",
    "        print('Model created :', curr)\n",
    "        \n",
    "\n",
    "        i += 1\n",
    "        \n",
    "        \n",
    "    print('Total created models: ', i)\n",
    "    return [model]\n",
    "    "
   ]
  },
  {
   "cell_type": "code",
   "execution_count": 87,
   "metadata": {},
   "outputs": [],
   "source": [
    "def loadModel(curr_key):\n",
    "    i = 0\n",
    "    models = []\n",
    "    for curr in curr_key:\n",
    "        # load the model from disk\n",
    "        filename = curr + '_model.sav'\n",
    "        loaded_model = pickle.load(open(filename, 'rb'))\n",
    "        models.append(loaded_model)\n",
    "        print('Loaded model: ', filename)\n",
    "    return models"
   ]
  },
  {
   "cell_type": "code",
   "execution_count": 88,
   "metadata": {},
   "outputs": [],
   "source": [
    "def predict(x_test, models):\n",
    "    predict_arr = np.zeros((x_test.shape[0], len(models)))\n",
    "\n",
    "    i = 0\n",
    "    for model in models:\n",
    "        X = x_test[:, :, :].reshape(x_test.shape[0], x_test.shape[1], x_test.shape[2])\n",
    "        \n",
    "        prediction = model.predict(X)\n",
    "        predict_arr[:, i] = prediction.reshape(prediction.shape[0], prediction.shape[1])\n",
    "        i += 1\n",
    "    return predict_arr"
   ]
  },
  {
   "cell_type": "code",
   "execution_count": 89,
   "metadata": {},
   "outputs": [],
   "source": [
    "def getMSE(x_train, y_train, models, scaler):\n",
    "    i = 0\n",
    "    mse_arr = []\n",
    "    ps = 0*y_train\n",
    "    for model in models:\n",
    "        X = x_train[:, :, :].reshape(x_train.shape[0], x_train.shape[1], x_train.shape[2])\n",
    "        p = model.predict(X)\n",
    "        ps[:, i] = p.reshape(p.shape[0],)\n",
    "        i += 1\n",
    "\n",
    "    y_train_inv = scaler.inverse_transform(y_train)\n",
    "    predict = scaler.inverse_transform(ps)\n",
    "        \n",
    "    for j in range(len(models)):\n",
    "        mse = mean_squared_error(y_train_inv[:, j], predict[:, j])\n",
    "        mse_arr.append(mse)\n",
    "    return mse_arr"
   ]
  },
  {
   "cell_type": "code",
   "execution_count": 90,
   "metadata": {},
   "outputs": [
    {
     "data": {
      "text/html": [
       "<div>\n",
       "<style scoped>\n",
       "    .dataframe tbody tr th:only-of-type {\n",
       "        vertical-align: middle;\n",
       "    }\n",
       "\n",
       "    .dataframe tbody tr th {\n",
       "        vertical-align: top;\n",
       "    }\n",
       "\n",
       "    .dataframe thead th {\n",
       "        text-align: right;\n",
       "    }\n",
       "</style>\n",
       "<table border=\"1\" class=\"dataframe\">\n",
       "  <thead>\n",
       "    <tr style=\"text-align: right;\">\n",
       "      <th></th>\n",
       "      <th>EURAUD</th>\n",
       "      <th>EURCAD</th>\n",
       "      <th>EURCHF</th>\n",
       "      <th>EURGBP</th>\n",
       "      <th>EURJPY</th>\n",
       "      <th>EURUSD</th>\n",
       "    </tr>\n",
       "  </thead>\n",
       "  <tbody>\n",
       "    <tr>\n",
       "      <th>0</th>\n",
       "      <td>1.45587</td>\n",
       "      <td>1.41179</td>\n",
       "      <td>1.07122</td>\n",
       "      <td>0.85164</td>\n",
       "      <td>122.959</td>\n",
       "      <td>1.05168</td>\n",
       "    </tr>\n",
       "    <tr>\n",
       "      <th>1</th>\n",
       "      <td>1.45758</td>\n",
       "      <td>1.41293</td>\n",
       "      <td>1.07153</td>\n",
       "      <td>0.85188</td>\n",
       "      <td>122.856</td>\n",
       "      <td>1.05224</td>\n",
       "    </tr>\n",
       "    <tr>\n",
       "      <th>2</th>\n",
       "      <td>1.45755</td>\n",
       "      <td>1.41281</td>\n",
       "      <td>1.07137</td>\n",
       "      <td>0.85171</td>\n",
       "      <td>122.833</td>\n",
       "      <td>1.05193</td>\n",
       "    </tr>\n",
       "    <tr>\n",
       "      <th>3</th>\n",
       "      <td>1.45680</td>\n",
       "      <td>1.41212</td>\n",
       "      <td>1.07333</td>\n",
       "      <td>0.85162</td>\n",
       "      <td>122.641</td>\n",
       "      <td>1.05189</td>\n",
       "    </tr>\n",
       "    <tr>\n",
       "      <th>4</th>\n",
       "      <td>1.45624</td>\n",
       "      <td>1.41063</td>\n",
       "      <td>1.07265</td>\n",
       "      <td>0.85129</td>\n",
       "      <td>122.856</td>\n",
       "      <td>1.05152</td>\n",
       "    </tr>\n",
       "  </tbody>\n",
       "</table>\n",
       "</div>"
      ],
      "text/plain": [
       "    EURAUD   EURCAD   EURCHF   EURGBP   EURJPY   EURUSD\n",
       "0  1.45587  1.41179  1.07122  0.85164  122.959  1.05168\n",
       "1  1.45758  1.41293  1.07153  0.85188  122.856  1.05224\n",
       "2  1.45755  1.41281  1.07137  0.85171  122.833  1.05193\n",
       "3  1.45680  1.41212  1.07333  0.85162  122.641  1.05189\n",
       "4  1.45624  1.41063  1.07265  0.85129  122.856  1.05152"
      ]
     },
     "execution_count": 90,
     "metadata": {},
     "output_type": "execute_result"
    }
   ],
   "source": [
    "df = pd.read_pickle('EUR')\n",
    "df.head(5)"
   ]
  },
  {
   "cell_type": "code",
   "execution_count": 91,
   "metadata": {},
   "outputs": [
    {
     "name": "stdout",
     "output_type": "stream",
     "text": [
      "(12960, 6)\n",
      "(10356, 12, 6)\n",
      "(10356, 6)\n"
     ]
    }
   ],
   "source": [
    "x_train, y_train, x_test, y_test, scaler = prepareData(df)"
   ]
  },
  {
   "cell_type": "code",
   "execution_count": 92,
   "metadata": {
    "scrolled": true
   },
   "outputs": [
    {
     "name": "stdout",
     "output_type": "stream",
     "text": [
      "['USD']\n",
      "Epoch 1/3\n",
      "10356/10356 [==============================] - 66s 6ms/step - loss: 68.3684\n",
      "Epoch 2/3\n",
      "10356/10356 [==============================] - 66s 6ms/step - loss: 0.0252\n",
      "Epoch 3/3\n",
      "10356/10356 [==============================] - 63s 6ms/step - loss: 0.0199\n",
      "Model created : USD\n",
      "Total created models:  1\n"
     ]
    }
   ],
   "source": [
    "print(curr_key)\n",
    "models = buildModel(x_train, y_train, curr_key)"
   ]
  },
  {
   "cell_type": "code",
   "execution_count": 93,
   "metadata": {},
   "outputs": [
    {
     "name": "stdout",
     "output_type": "stream",
     "text": [
      "Loaded model:  USD_model.sav\n"
     ]
    }
   ],
   "source": [
    "models = loadModel(curr_key)"
   ]
  },
  {
   "cell_type": "code",
   "execution_count": 94,
   "metadata": {},
   "outputs": [
    {
     "ename": "ValueError",
     "evalue": "could not broadcast input array from shape (2580,6) into shape (2580)",
     "output_type": "error",
     "traceback": [
      "\u001b[0;31m---------------------------------------------------------------------------\u001b[0m",
      "\u001b[0;31mValueError\u001b[0m                                Traceback (most recent call last)",
      "\u001b[0;32m<ipython-input-94-90257a9f7842>\u001b[0m in \u001b[0;36m<module>\u001b[0;34m\u001b[0m\n\u001b[0;32m----> 1\u001b[0;31m \u001b[0mpredict_arr\u001b[0m \u001b[0;34m=\u001b[0m \u001b[0mpredict\u001b[0m\u001b[0;34m(\u001b[0m\u001b[0mx_test\u001b[0m\u001b[0;34m,\u001b[0m \u001b[0mmodels\u001b[0m\u001b[0;34m)\u001b[0m\u001b[0;34m\u001b[0m\u001b[0;34m\u001b[0m\u001b[0m\n\u001b[0m\u001b[1;32m      2\u001b[0m \u001b[0mhorizon\u001b[0m \u001b[0;34m=\u001b[0m \u001b[0;36m24\u001b[0m\u001b[0;34m*\u001b[0m\u001b[0;36m10\u001b[0m\u001b[0;34m\u001b[0m\u001b[0;34m\u001b[0m\u001b[0m\n",
      "\u001b[0;32m<ipython-input-88-6ac52a6da036>\u001b[0m in \u001b[0;36mpredict\u001b[0;34m(x_test, models)\u001b[0m\n\u001b[1;32m      7\u001b[0m \u001b[0;34m\u001b[0m\u001b[0m\n\u001b[1;32m      8\u001b[0m         \u001b[0mprediction\u001b[0m \u001b[0;34m=\u001b[0m \u001b[0mmodel\u001b[0m\u001b[0;34m.\u001b[0m\u001b[0mpredict\u001b[0m\u001b[0;34m(\u001b[0m\u001b[0mX\u001b[0m\u001b[0;34m)\u001b[0m\u001b[0;34m\u001b[0m\u001b[0;34m\u001b[0m\u001b[0m\n\u001b[0;32m----> 9\u001b[0;31m         \u001b[0mpredict_arr\u001b[0m\u001b[0;34m[\u001b[0m\u001b[0;34m:\u001b[0m\u001b[0;34m,\u001b[0m \u001b[0mi\u001b[0m\u001b[0;34m]\u001b[0m \u001b[0;34m=\u001b[0m \u001b[0mprediction\u001b[0m\u001b[0;34m.\u001b[0m\u001b[0mreshape\u001b[0m\u001b[0;34m(\u001b[0m\u001b[0mprediction\u001b[0m\u001b[0;34m.\u001b[0m\u001b[0mshape\u001b[0m\u001b[0;34m[\u001b[0m\u001b[0;36m0\u001b[0m\u001b[0;34m]\u001b[0m\u001b[0;34m,\u001b[0m \u001b[0mprediction\u001b[0m\u001b[0;34m.\u001b[0m\u001b[0mshape\u001b[0m\u001b[0;34m[\u001b[0m\u001b[0;36m1\u001b[0m\u001b[0;34m]\u001b[0m\u001b[0;34m)\u001b[0m\u001b[0;34m\u001b[0m\u001b[0;34m\u001b[0m\u001b[0m\n\u001b[0m\u001b[1;32m     10\u001b[0m         \u001b[0mi\u001b[0m \u001b[0;34m+=\u001b[0m \u001b[0;36m1\u001b[0m\u001b[0;34m\u001b[0m\u001b[0;34m\u001b[0m\u001b[0m\n\u001b[1;32m     11\u001b[0m     \u001b[0;32mreturn\u001b[0m \u001b[0mpredict_arr\u001b[0m\u001b[0;34m\u001b[0m\u001b[0;34m\u001b[0m\u001b[0m\n",
      "\u001b[0;31mValueError\u001b[0m: could not broadcast input array from shape (2580,6) into shape (2580)"
     ]
    }
   ],
   "source": [
    "predict_arr = predict(x_test, models)\n",
    "horizon = 24*10"
   ]
  },
  {
   "cell_type": "code",
   "execution_count": 38,
   "metadata": {},
   "outputs": [
    {
     "data": {
      "image/png": "[encoded data removed]",
      "text/plain": [
       "<Figure size 864x432 with 1 Axes>"
      ]
     },
     "metadata": {
      "needs_background": "light"
     },
     "output_type": "display_data"
    }
   ],
   "source": [
    "for i in range(len(curr_key)):\n",
    "    xs = np.arange(int(horizon))\n",
    "    fig = plt.figure(figsize=(12, 6))\n",
    "    ax = fig.add_subplot(1, 1, 1)\n",
    "\n",
    "    ax.plot(xs, y_test[-horizon:, i], label='Real ' + curr_key[i], lw=2, color='black')\n",
    "    ax.plot(xs, predict_arr[-horizon:, i], label='Forecast ' + curr_key[i], lw=2, color='blue')\n",
    "    \n",
    "    plt.show()"
   ]
  },
  {
   "cell_type": "code",
   "execution_count": 78,
   "metadata": {
    "scrolled": false
   },
   "outputs": [
    {
     "ename": "ValueError",
     "evalue": "non-broadcastable output operand with shape (2580,1) doesn't match the broadcast shape (2580,6)",
     "output_type": "error",
     "traceback": [
      "\u001b[0;31m---------------------------------------------------------------------------\u001b[0m",
      "\u001b[0;31mValueError\u001b[0m                                Traceback (most recent call last)",
      "\u001b[0;32m<ipython-input-78-c349105ae8ba>\u001b[0m in \u001b[0;36m<module>\u001b[0;34m\u001b[0m\n\u001b[1;32m      1\u001b[0m \u001b[0my_test_inv\u001b[0m \u001b[0;34m=\u001b[0m \u001b[0mscaler\u001b[0m\u001b[0;34m.\u001b[0m\u001b[0minverse_transform\u001b[0m\u001b[0;34m(\u001b[0m\u001b[0my_test\u001b[0m\u001b[0;34m)\u001b[0m\u001b[0;34m\u001b[0m\u001b[0;34m\u001b[0m\u001b[0m\n\u001b[0;32m----> 2\u001b[0;31m \u001b[0mpredict\u001b[0m \u001b[0;34m=\u001b[0m \u001b[0mscaler\u001b[0m\u001b[0;34m.\u001b[0m\u001b[0minverse_transform\u001b[0m\u001b[0;34m(\u001b[0m\u001b[0mpredict_arr\u001b[0m\u001b[0;34m)\u001b[0m\u001b[0;34m\u001b[0m\u001b[0;34m\u001b[0m\u001b[0m\n\u001b[0m\u001b[1;32m      3\u001b[0m \u001b[0;34m\u001b[0m\u001b[0m\n\u001b[1;32m      4\u001b[0m \u001b[0mhorizon\u001b[0m \u001b[0;34m=\u001b[0m \u001b[0;36m24\u001b[0m\u001b[0;34m*\u001b[0m\u001b[0;36m30\u001b[0m\u001b[0;34m\u001b[0m\u001b[0;34m\u001b[0m\u001b[0m\n",
      "\u001b[0;32m~/anaconda3/lib/python3.7/site-packages/sklearn/preprocessing/data.py\u001b[0m in \u001b[0;36minverse_transform\u001b[0;34m(self, X)\u001b[0m\n\u001b[1;32m    404\u001b[0m                         force_all_finite=\"allow-nan\")\n\u001b[1;32m    405\u001b[0m \u001b[0;34m\u001b[0m\u001b[0m\n\u001b[0;32m--> 406\u001b[0;31m         \u001b[0mX\u001b[0m \u001b[0;34m-=\u001b[0m \u001b[0mself\u001b[0m\u001b[0;34m.\u001b[0m\u001b[0mmin_\u001b[0m\u001b[0;34m\u001b[0m\u001b[0;34m\u001b[0m\u001b[0m\n\u001b[0m\u001b[1;32m    407\u001b[0m         \u001b[0mX\u001b[0m \u001b[0;34m/=\u001b[0m \u001b[0mself\u001b[0m\u001b[0;34m.\u001b[0m\u001b[0mscale_\u001b[0m\u001b[0;34m\u001b[0m\u001b[0;34m\u001b[0m\u001b[0m\n\u001b[1;32m    408\u001b[0m         \u001b[0;32mreturn\u001b[0m \u001b[0mX\u001b[0m\u001b[0;34m\u001b[0m\u001b[0;34m\u001b[0m\u001b[0m\n",
      "\u001b[0;31mValueError\u001b[0m: non-broadcastable output operand with shape (2580,1) doesn't match the broadcast shape (2580,6)"
     ]
    }
   ],
   "source": [
    "y_test_inv = scaler.inverse_transform(y_test)\n",
    "predict = scaler.inverse_transform(predict_arr)\n",
    "\n",
    "horizon = 24*30"
   ]
  },
  {
   "cell_type": "code",
   "execution_count": null,
   "metadata": {},
   "outputs": [],
   "source": [
    "def getActions(y, V, Cash, T):\n",
    "    n = V.shape[1]\n",
    "    t_cur = T\n",
    "    t_prev = t_cur - 1\n",
    "    t_prev2 = t_prev - 1\n",
    "    t_next = t_cur + 1\n",
    "    \n",
    "    X_eur = Cash[t_cur, -1]\n",
    "    X_new = X_eur\n",
    "    A = []\n",
    "    \n",
    "    for c in range(n):\n",
    "        action = ''\n",
    "        X = 0\n",
    "\n",
    "        d_cur = y[t_prev, c] - y[t_prev2, c]\n",
    "        d_next = V[t_cur, c] - y[t_prev, c]\n",
    "\n",
    "        if d_cur > 0 and d_next < 0:\n",
    "            action = 'BUY'\n",
    "\n",
    "        elif d_cur < 0 and d_next > 0:\n",
    "            action = 'SELL'\n",
    "        A.append([action, X])\n",
    "    \n",
    "    return A"
   ]
  },
  {
   "cell_type": "code",
   "execution_count": null,
   "metadata": {},
   "outputs": [],
   "source": [
    "for j in range(len(curr_key)):\n",
    "    mse = mean_squared_error(y_test[:, j], predict_arr[:, j])\n",
    "    print(mse)"
   ]
  },
  {
   "cell_type": "code",
   "execution_count": null,
   "metadata": {},
   "outputs": [],
   "source": [
    "V = predict[-horizon:, :]\n",
    "y = y_test_inv[-horizon:, :]\n",
    "\n",
    "n = V.shape[1]\n",
    "initial_cash = 1000\n",
    "X_buy = 0*V\n",
    "X_sell = 0*V\n",
    "\n",
    "Cash = np.zeros((horizon+1, n + 1))\n",
    "Cash[0, -1] = initial_cash\n",
    "Cash[1, -1] = initial_cash\n",
    "print('n ', n)\n",
    "\n",
    "for t in range(2, horizon):\n",
    "    A = getActions(y, V, Cash, t)\n",
    "    Cash[t, :] = Cash[t-1, :]\n",
    "    b = 0\n",
    "    c = 0\n",
    "    \n",
    "    print('Heure ', t)\n",
    "    for a in A:        \n",
    "        if a[0] == 'SELL' and Cash[t, c] > 0:\n",
    "            print(str(a[0]) + ' ' + str(Cash[t, c]) + ' ' + str(curr_key[c]) + ' rate :' + str(y[t, c]))\n",
    "            \n",
    "            Cash[t, -1] = Cash[t, -1] + Cash[t, c]/y[t, c]\n",
    "            Cash[t, c] = Cash[t, c] -  Cash[t, c]\n",
    "            X_sell[t, c] = 1\n",
    "            \n",
    "            \n",
    "            print('Euro after sell ', Cash[t, -1])\n",
    "        if a[0] == 'BUY':\n",
    "            b += 1\n",
    "        c += 1\n",
    "          \n",
    "    c = 0    \n",
    "    for a in A:\n",
    "            \n",
    "        if a[0] == 'BUY' and Cash[t, -1] > 0:\n",
    "            \n",
    "            print(str(a[0]) + ' ' + str(Cash[t, -1]*y[t, c]/b) + ' ' + str(curr_key[c]) + ' rate: ' + str(y[t, c]/b))\n",
    "            \n",
    "            Cash[t, c] = Cash[t, c] + Cash[t, -1]*y[t, c]/b\n",
    "            Cash[t, -1] = Cash[t, -1] - Cash[t, -1]/b\n",
    "            \n",
    "            print('Euro after buy ', Cash[t, -1])\n",
    "            X_buy[t, c] = 1\n",
    "        \n",
    "        c += 1\n",
    "    \n",
    "    print('Actions end of hour: ', A)\n",
    "    print('Accounts status: ', Cash[t, :])\n",
    "    last_day = t\n",
    "\n",
    "final_cash = Cash[last_day, -1]\n",
    "print(final_cash)\n",
    "for i in range(n):\n",
    "    if y[last_day, i] != 0:\n",
    "        final_cash += Cash[last_day, i]/y[last_day, i]\n",
    "        initial_cash += Cash[0, i]/y[0, i]\n",
    "\n",
    "d_growth = (final_cash/initial_cash)**(1/(horizon/24)) - 1\n",
    "                 \n",
    "print('Initial cash value (eur): ', initial_cash)\n",
    "print('Final cash value (eur): ', final_cash)\n",
    "print('Daily growth: ', d_growth, '%')\n",
    "print('Win: ', final_cash - initial_cash)"
   ]
  },
  {
   "cell_type": "code",
   "execution_count": null,
   "metadata": {},
   "outputs": [],
   "source": [
    "mse_arr = getMSE(x_train, y_train, models, scaler)\n",
    "for i in range(len(curr_key)):\n",
    "    xs = np.arange(int(horizon))\n",
    "    fig = plt.figure(figsize=(12, 6))\n",
    "    ax = fig.add_subplot(1, 1, 1)\n",
    "\n",
    "    ax.plot(xs, y_test_inv[-horizon:, i], label='Real ' + curr_key[i], lw=2, color='black')\n",
    "    ax.plot(xs, predict[-horizon:, i], label='Forecast ' + curr_key[i], lw=2, color='blue')\n",
    "    \n",
    "\n",
    "    rmse = mse_arr[i]\n",
    "    print('rmse: ', rmse)\n",
    "\n",
    "    rmse_max = [float(p) + float(rmse)/2 for p in predict[:, i]]\n",
    "    rmse_min = [float(p) - float(rmse)/2 for p in predict[:, i]]\n",
    "\n",
    "    ax.fill_between(xs, rmse_max[-horizon:], rmse_min[-horizon:], color='red', alpha=0.2)\n",
    "    plt.show()"
   ]
  },
  {
   "cell_type": "code",
   "execution_count": null,
   "metadata": {},
   "outputs": [],
   "source": []
  }
 ],
 "metadata": {
  "kernelspec": {
   "display_name": "Python 3",
   "language": "python",
   "name": "python3"
  },
  "language_info": {
   "codemirror_mode": {
    "name": "ipython",
    "version": 3
   },
   "file_extension": ".py",
   "mimetype": "text/x-python",
   "name": "python",
   "nbconvert_exporter": "python",
   "pygments_lexer": "ipython3",
   "version": "3.7.3"
  }
 },
 "nbformat": 4,
 "nbformat_minor": 2
}
