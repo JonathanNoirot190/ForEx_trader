{
 "cells": [
  {
   "cell_type": "code",
   "execution_count": 14,
   "metadata": {},
   "outputs": [],
   "source": [
    "from pandas import read_csv\n",
    "from datetime import datetime\n",
    "import matplotlib as mpl\n",
    "from matplotlib import pylab as plt\n",
    "import matplotlib.dates as mdates\n",
    "import pandas as pd\n",
    "import collections\n",
    "import seaborn as sns\n",
    "import numpy as np\n",
    "import tensorflow as tf\n",
    "\n",
    "from sklearn.metrics import mean_squared_error\n",
    "from sklearn.preprocessing import MinMaxScaler\n",
    "from keras.models import Sequential\n",
    "from keras.layers import Dense, Dropout, LSTM\n",
    "import pickle"
   ]
  },
  {
   "cell_type": "code",
   "execution_count": 15,
   "metadata": {
    "scrolled": true
   },
   "outputs": [],
   "source": [
    "# load data\n",
    "def builData(cur):\n",
    "    \n",
    "    def parse(x):\n",
    "        return datetime.strptime(x, '%Y.%m.%d')\n",
    "    \n",
    "\n",
    "    df = read_csv(cur + '.csv',sep='\\t')\n",
    "\n",
    "    df['<DATETIME>'] = df['<DATE>'] + ' ' + df['<TIME>']\n",
    "#     df.index.name = '<DATETIME>'\n",
    "\n",
    "    df.drop('<DATE>', axis=1, inplace=True)\n",
    "    df.drop('<TIME>', axis=1, inplace=True)\n",
    "    df.drop('<VOL>', axis=1, inplace=True)\n",
    "    df.drop('<SPREAD>', axis=1, inplace=True)\n",
    "    df.drop('<DATETIME>', axis=1, inplace=True)\n",
    "\n",
    "    # mark all NA values with 0\n",
    "#     curr_key = ['Canadian Dollar', 'Sterling', 'INR', 'US Dollar']\n",
    "\n",
    "#     for curr in curr_key: \n",
    "#         df[curr].fillna(0, inplace=True)\n",
    "#         df[curr] = df[curr].replace('-', 0) \n",
    "#     for j in range(5):\n",
    "#         for curr in curr_key:\n",
    "#             i = 0\n",
    "#             for v in df[curr]:\n",
    "#                 df[curr][i] = float(df[curr][i])\n",
    "#                 if i < len(df[curr])-1 and df[curr][i] == 0:\n",
    "#                     df[curr][i] = float(df[curr][i+1])        \n",
    "#                 i += 1\n",
    "\n",
    "\n",
    "    df.info()\n",
    "    print(df.head(5))\n",
    "    return df"
   ]
  },
  {
   "cell_type": "code",
   "execution_count": 16,
   "metadata": {},
   "outputs": [
    {
     "name": "stdout",
     "output_type": "stream",
     "text": [
      "<class 'pandas.core.frame.DataFrame'>\n",
      "RangeIndex: 2410 entries, 0 to 2409\n",
      "Data columns (total 5 columns):\n",
      "<OPEN>       2410 non-null float64\n",
      "<HIGH>       2410 non-null float64\n",
      "<LOW>        2410 non-null float64\n",
      "<CLOSE>      2410 non-null float64\n",
      "<TICKVOL>    2410 non-null int64\n",
      "dtypes: float64(4), int64(1)\n",
      "memory usage: 94.2 KB\n",
      "    <OPEN>   <HIGH>    <LOW>  <CLOSE>  <TICKVOL>\n",
      "0  108.802  108.818  108.783  108.795         75\n",
      "1  108.795  108.822  108.778  108.799        244\n",
      "2  108.795  108.817  108.785  108.794        122\n",
      "3  108.802  108.805  108.778  108.784        328\n",
      "4  108.784  108.793  108.781  108.786        529\n"
     ]
    }
   ],
   "source": [
    "cur_list = ['USDJPY', 'GBPUSD', 'EURUSD', 'USDCHF']\n",
    "curr = cur_list[0]\n",
    "df = builData(curr)\n",
    "df.to_pickle(curr)"
   ]
  },
  {
   "cell_type": "code",
   "execution_count": 43,
   "metadata": {},
   "outputs": [],
   "source": [
    "def prepareData(df):\n",
    "    #creating train and test sets\n",
    "    start_date = '1999-01-04'\n",
    "    start = 365 * 10 #2015\n",
    "    # df.columns.drop(['Unnamed: 0', 'date'])\n",
    "\n",
    "    dataset = df.values\n",
    "\n",
    "#     dataset = np.array(sorted(dataset, key=lambda p: p[0], reverse=False))\n",
    "    print(dataset)\n",
    "    dataset = dataset.astype(np.float64)\n",
    "    print(dataset.shape)\n",
    "\n",
    "    train_size = int(len(dataset)*0.8)\n",
    "\n",
    "    train = dataset[:train_size, :]\n",
    "    valid = dataset[train_size:, :]\n",
    "    #converting dataset into x_train and y_train\n",
    "    scaler = MinMaxScaler(feature_range=(0, 1))\n",
    "    scaled_data = scaler.fit_transform(train)\n",
    "    scaled_data_test = scaler.fit_transform(valid)\n",
    "\n",
    "    x_train, y_train = [], []\n",
    "    x_test, y_test = [], []\n",
    "\n",
    "    lookback = 24*6 # one day\n",
    "    for i in range(lookback,len(train)):\n",
    "        x_train.append(scaled_data[i-lookback:i,:])\n",
    "        y_train.append(scaled_data[i,1])\n",
    "    for i in range(lookback,len(valid)):\n",
    "        x_test.append(scaled_data_test[i-lookback:i,:])\n",
    "        y_test.append(scaled_data_test[i,1])\n",
    "\n",
    "    x_train, y_train = np.array(x_train), np.array(y_train)\n",
    "    x_test, y_test = np.array(x_test), np.array(y_test)\n",
    "\n",
    "#     x_train = np.reshape(x_train, (x_train.shape[0],x_train.shape[1],5))\n",
    "#     x_test = np.reshape(x_test, (x_test.shape[0],x_test.shape[1],5))\n",
    "    print(x_train.shape)\n",
    "    print(x_test.shape)\n",
    "    print(y_train.shape)\n",
    "    return x_train, y_train, x_test, y_test, scaler"
   ]
  },
  {
   "cell_type": "code",
   "execution_count": 58,
   "metadata": {},
   "outputs": [],
   "source": [
    "def buildModel(curr, x_train, y_train):\n",
    "    i = 0\n",
    "    # create and fit the LSTM network\n",
    "    model = Sequential()\n",
    "    model.add(LSTM(units=50, return_sequences=True, input_shape=(x_train.shape[1],5)))\n",
    "    model.add(LSTM(units=50))\n",
    "    model.add(Dense(1))\n",
    "    X = x_train\n",
    "    y = y_train\n",
    "#     X = x_train.reshape(x_train.shape[0], x_train.shape[1], 1)\n",
    "#     y = y_train\n",
    "\n",
    "    model.compile(loss='mean_squared_error', optimizer='adam')\n",
    "    history = model.fit(X, y, epochs=1, batch_size=1, verbose=1)\n",
    "    filename = curr + '_model.sav'\n",
    "    pickle.dump(model, open(filename, 'wb'))\n",
    "\n",
    "    i += 1\n",
    "    "
   ]
  },
  {
   "cell_type": "code",
   "execution_count": 59,
   "metadata": {},
   "outputs": [],
   "source": [
    "def loadModel(curr):\n",
    "    i = 0\n",
    "\n",
    "    # load the model from disk\n",
    "    filename = curr + '_model.sav'\n",
    "    loaded_model = pickle.load(open(filename, 'rb'))\n",
    "    return loaded_model"
   ]
  },
  {
   "cell_type": "code",
   "execution_count": 60,
   "metadata": {},
   "outputs": [],
   "source": [
    "def predict(x_test, model):\n",
    "#     predict_arr = np.zeros((x_test.shape[0], len(models)))\n",
    "    predict_arr = np.zeros((x_test.shape[0], 1))\n",
    "    i = 0\n",
    "#     X = x_test[:, :, i].reshape(x_test.shape[0], x_test.shape[1], 1)\n",
    "\n",
    "    prediction = model.predict(x_test)\n",
    "#     predict_arr = prediction.reshape(prediction.shape[0],)\n",
    "    i += 1\n",
    "#     for model in models:\n",
    "#         X = x_test[:, :, i].reshape(x_test.shape[0], x_test.shape[1], 1)\n",
    "        \n",
    "#         prediction = model.predict(X)\n",
    "#         predict_arr[:, i] = prediction.reshape(prediction.shape[0],)\n",
    "#         i += 1\n",
    "    return prediction"
   ]
  },
  {
   "cell_type": "code",
   "execution_count": 61,
   "metadata": {},
   "outputs": [],
   "source": [
    "def getMSE(x_train, y_train, model, scaler):\n",
    "    mse_arr = []\n",
    "#     for model in models:\n",
    "    X = x_train #[:, :, i].reshape(x_train.shape[0], x_train.shape[1], 1)\n",
    "    p = model.predict(X)\n",
    "\n",
    "    y_train_inv = scaler.inverse_transform(y_train)\n",
    "    predict = scaler.inverse_transform(p)\n",
    "\n",
    "    mse = mean_squared_error(y_train_inv, predict)\n",
    "\n",
    "    return mse"
   ]
  },
  {
   "cell_type": "code",
   "execution_count": 62,
   "metadata": {},
   "outputs": [
    {
     "data": {
      "text/html": [
       "<div>\n",
       "<style scoped>\n",
       "    .dataframe tbody tr th:only-of-type {\n",
       "        vertical-align: middle;\n",
       "    }\n",
       "\n",
       "    .dataframe tbody tr th {\n",
       "        vertical-align: top;\n",
       "    }\n",
       "\n",
       "    .dataframe thead th {\n",
       "        text-align: right;\n",
       "    }\n",
       "</style>\n",
       "<table border=\"1\" class=\"dataframe\">\n",
       "  <thead>\n",
       "    <tr style=\"text-align: right;\">\n",
       "      <th></th>\n",
       "      <th>&lt;OPEN&gt;</th>\n",
       "      <th>&lt;HIGH&gt;</th>\n",
       "      <th>&lt;LOW&gt;</th>\n",
       "      <th>&lt;CLOSE&gt;</th>\n",
       "      <th>&lt;TICKVOL&gt;</th>\n",
       "    </tr>\n",
       "  </thead>\n",
       "  <tbody>\n",
       "    <tr>\n",
       "      <th>0</th>\n",
       "      <td>108.802</td>\n",
       "      <td>108.818</td>\n",
       "      <td>108.783</td>\n",
       "      <td>108.795</td>\n",
       "      <td>75</td>\n",
       "    </tr>\n",
       "    <tr>\n",
       "      <th>1</th>\n",
       "      <td>108.795</td>\n",
       "      <td>108.822</td>\n",
       "      <td>108.778</td>\n",
       "      <td>108.799</td>\n",
       "      <td>244</td>\n",
       "    </tr>\n",
       "    <tr>\n",
       "      <th>2</th>\n",
       "      <td>108.795</td>\n",
       "      <td>108.817</td>\n",
       "      <td>108.785</td>\n",
       "      <td>108.794</td>\n",
       "      <td>122</td>\n",
       "    </tr>\n",
       "    <tr>\n",
       "      <th>3</th>\n",
       "      <td>108.802</td>\n",
       "      <td>108.805</td>\n",
       "      <td>108.778</td>\n",
       "      <td>108.784</td>\n",
       "      <td>328</td>\n",
       "    </tr>\n",
       "    <tr>\n",
       "      <th>4</th>\n",
       "      <td>108.784</td>\n",
       "      <td>108.793</td>\n",
       "      <td>108.781</td>\n",
       "      <td>108.786</td>\n",
       "      <td>529</td>\n",
       "    </tr>\n",
       "  </tbody>\n",
       "</table>\n",
       "</div>"
      ],
      "text/plain": [
       "    <OPEN>   <HIGH>    <LOW>  <CLOSE>  <TICKVOL>\n",
       "0  108.802  108.818  108.783  108.795         75\n",
       "1  108.795  108.822  108.778  108.799        244\n",
       "2  108.795  108.817  108.785  108.794        122\n",
       "3  108.802  108.805  108.778  108.784        328\n",
       "4  108.784  108.793  108.781  108.786        529"
      ]
     },
     "execution_count": 62,
     "metadata": {},
     "output_type": "execute_result"
    }
   ],
   "source": [
    "df = pd.read_pickle(curr)\n",
    "df.head(5)"
   ]
  },
  {
   "cell_type": "code",
   "execution_count": 63,
   "metadata": {},
   "outputs": [
    {
     "name": "stdout",
     "output_type": "stream",
     "text": [
      "[[ 108.802  108.818  108.783  108.795   75.   ]\n",
      " [ 108.795  108.822  108.778  108.799  244.   ]\n",
      " [ 108.795  108.817  108.785  108.794  122.   ]\n",
      " ...\n",
      " [ 109.486  109.531  109.485  109.514  969.   ]\n",
      " [ 109.514  109.636  109.514  109.628 1075.   ]\n",
      " [ 109.628  109.628  109.608  109.608   88.   ]]\n",
      "(2410, 5)\n",
      "(1784, 144, 5)\n",
      "(338, 144, 5)\n",
      "(1784,)\n"
     ]
    }
   ],
   "source": [
    "x_train, y_train, x_test, y_test, scaler = prepareData(df)"
   ]
  },
  {
   "cell_type": "code",
   "execution_count": 64,
   "metadata": {},
   "outputs": [
    {
     "name": "stdout",
     "output_type": "stream",
     "text": [
      "Epoch 1/1\n",
      "1784/1784 [==============================] - 160s 90ms/step - loss: 0.0020\n"
     ]
    }
   ],
   "source": [
    "buildModel(curr, x_train, y_train)"
   ]
  },
  {
   "cell_type": "code",
   "execution_count": 65,
   "metadata": {},
   "outputs": [],
   "source": [
    "models = loadModel(curr)"
   ]
  },
  {
   "cell_type": "code",
   "execution_count": 66,
   "metadata": {},
   "outputs": [],
   "source": [
    "predict_arr = predict(x_test, models)"
   ]
  },
  {
   "cell_type": "code",
   "execution_count": 70,
   "metadata": {},
   "outputs": [
    {
     "ename": "ValueError",
     "evalue": "non-broadcastable output operand with shape (338,1) doesn't match the broadcast shape (338,5)",
     "output_type": "error",
     "traceback": [
      "\u001b[0;31m---------------------------------------------------------------------------\u001b[0m",
      "\u001b[0;31mValueError\u001b[0m                                Traceback (most recent call last)",
      "\u001b[0;32m<ipython-input-70-ce5019abc9cf>\u001b[0m in \u001b[0;36m<module>\u001b[0;34m\u001b[0m\n\u001b[0;32m----> 1\u001b[0;31m \u001b[0my_test_inv\u001b[0m \u001b[0;34m=\u001b[0m \u001b[0mscaler\u001b[0m\u001b[0;34m.\u001b[0m\u001b[0minverse_transform\u001b[0m\u001b[0;34m(\u001b[0m\u001b[0my_test\u001b[0m\u001b[0;34m.\u001b[0m\u001b[0mreshape\u001b[0m\u001b[0;34m(\u001b[0m\u001b[0;34m-\u001b[0m\u001b[0;36m1\u001b[0m\u001b[0;34m,\u001b[0m \u001b[0;36m1\u001b[0m\u001b[0;34m)\u001b[0m\u001b[0;34m)\u001b[0m\u001b[0;34m\u001b[0m\u001b[0;34m\u001b[0m\u001b[0m\n\u001b[0m\u001b[1;32m      2\u001b[0m \u001b[0mpredict\u001b[0m \u001b[0;34m=\u001b[0m \u001b[0mscaler\u001b[0m\u001b[0;34m.\u001b[0m\u001b[0minverse_transform\u001b[0m\u001b[0;34m(\u001b[0m\u001b[0mpredict_arr\u001b[0m\u001b[0;34m)\u001b[0m\u001b[0;34m\u001b[0m\u001b[0;34m\u001b[0m\u001b[0m\n\u001b[1;32m      3\u001b[0m \u001b[0mcurr_key\u001b[0m \u001b[0;34m=\u001b[0m \u001b[0;34m[\u001b[0m\u001b[0;34m'Canadian Dollar'\u001b[0m\u001b[0;34m,\u001b[0m \u001b[0;34m'Sterling'\u001b[0m\u001b[0;34m,\u001b[0m \u001b[0;34m'INR'\u001b[0m\u001b[0;34m,\u001b[0m \u001b[0;34m'US Dollar'\u001b[0m\u001b[0;34m]\u001b[0m\u001b[0;34m\u001b[0m\u001b[0;34m\u001b[0m\u001b[0m\n\u001b[1;32m      4\u001b[0m \u001b[0mmse_arr\u001b[0m \u001b[0;34m=\u001b[0m \u001b[0mgetMSE\u001b[0m\u001b[0;34m(\u001b[0m\u001b[0mx_train\u001b[0m\u001b[0;34m,\u001b[0m \u001b[0my_train\u001b[0m\u001b[0;34m,\u001b[0m \u001b[0mmodels\u001b[0m\u001b[0;34m,\u001b[0m \u001b[0mscaler\u001b[0m\u001b[0;34m)\u001b[0m\u001b[0;34m\u001b[0m\u001b[0;34m\u001b[0m\u001b[0m\n\u001b[1;32m      5\u001b[0m \u001b[0mprint\u001b[0m\u001b[0;34m(\u001b[0m\u001b[0mmse_arr\u001b[0m\u001b[0;34m)\u001b[0m\u001b[0;34m\u001b[0m\u001b[0;34m\u001b[0m\u001b[0m\n",
      "\u001b[0;32m~/anaconda3/lib/python3.7/site-packages/sklearn/preprocessing/data.py\u001b[0m in \u001b[0;36minverse_transform\u001b[0;34m(self, X)\u001b[0m\n\u001b[1;32m    404\u001b[0m                         force_all_finite=\"allow-nan\")\n\u001b[1;32m    405\u001b[0m \u001b[0;34m\u001b[0m\u001b[0m\n\u001b[0;32m--> 406\u001b[0;31m         \u001b[0mX\u001b[0m \u001b[0;34m-=\u001b[0m \u001b[0mself\u001b[0m\u001b[0;34m.\u001b[0m\u001b[0mmin_\u001b[0m\u001b[0;34m\u001b[0m\u001b[0;34m\u001b[0m\u001b[0m\n\u001b[0m\u001b[1;32m    407\u001b[0m         \u001b[0mX\u001b[0m \u001b[0;34m/=\u001b[0m \u001b[0mself\u001b[0m\u001b[0;34m.\u001b[0m\u001b[0mscale_\u001b[0m\u001b[0;34m\u001b[0m\u001b[0;34m\u001b[0m\u001b[0m\n\u001b[1;32m    408\u001b[0m         \u001b[0;32mreturn\u001b[0m \u001b[0mX\u001b[0m\u001b[0;34m\u001b[0m\u001b[0;34m\u001b[0m\u001b[0m\n",
      "\u001b[0;31mValueError\u001b[0m: non-broadcastable output operand with shape (338,1) doesn't match the broadcast shape (338,5)"
     ]
    }
   ],
   "source": [
    "y_test_inv = scaler.inverse_transform(y_test.reshape(-1, 1)) ## scaler taking 5 data, currently y has 1 only\n",
    "predict = scaler.inverse_transform(predict_arr)\n",
    "curr_key = ['Canadian Dollar', 'Sterling', 'INR', 'US Dollar']\n",
    "mse_arr = getMSE(x_train, y_train, models, scaler)\n",
    "print(mse_arr)\n",
    "horizon = 6*24*2 #2 days\n",
    "for i in range(1):\n",
    "    xs = np.arange(int(horizon))\n",
    "    fig = plt.figure(figsize=(12, 6))\n",
    "    ax = fig.add_subplot(1, 1, 1)\n",
    "\n",
    "    ax.plot(xs, y_test_inv[-horizon:, i], label='Real ' + curr, lw=2, color='blue')\n",
    "    ax.plot(xs, predict[-horizon:, i], label='Forecast ' + curr, lw=2, color='red')\n",
    "\n",
    "    rmse = mse_arr[i]\n",
    "    rmse_max = [float(p) + float(rmse)/2 for p in predict[:, i]]\n",
    "    rmse_min = [float(p) - float(rmse)/2 for p in predict[:, i]]\n",
    "\n",
    "    ax.fill_between(xs, rmse_max[-horizon:], rmse_min[-horizon:], color='red', alpha=0.2)\n",
    "    plt.show()"
   ]
  },
  {
   "cell_type": "code",
   "execution_count": null,
   "metadata": {},
   "outputs": [],
   "source": [
    "# plt.plot(history.history['loss'], label='train_loss')\n",
    "# plt.plot(history.history['val_loss'], label='test_loss')\n",
    "# plt.legend()\n",
    "# plt.show()\n"
   ]
  },
  {
   "cell_type": "code",
   "execution_count": null,
   "metadata": {},
   "outputs": [],
   "source": []
  }
 ],
 "metadata": {
  "kernelspec": {
   "display_name": "Python 3",
   "language": "python",
   "name": "python3"
  },
  "language_info": {
   "codemirror_mode": {
    "name": "ipython",
    "version": 3
   },
   "file_extension": ".py",
   "mimetype": "text/x-python",
   "name": "python",
   "nbconvert_exporter": "python",
   "pygments_lexer": "ipython3",
   "version": "3.7.3"
  }
 },
 "nbformat": 4,
 "nbformat_minor": 2
}
