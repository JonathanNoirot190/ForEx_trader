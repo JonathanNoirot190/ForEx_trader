{
 "cells": [
  {
   "cell_type": "code",
   "execution_count": 1,
   "metadata": {},
   "outputs": [
    {
     "name": "stderr",
     "output_type": "stream",
     "text": [
      "Using TensorFlow backend.\n"
     ]
    }
   ],
   "source": [
    "# Import\n",
    "import MetaTrader5 as mt5\n",
    "import logging\n",
    "\n",
    "from pandas import read_csv\n",
    "from datetime import datetime, timedelta\n",
    "import matplotlib as mpl\n",
    "from matplotlib import pylab as plt\n",
    "import pandas as pd\n",
    "\n",
    "import numpy as np\n",
    "import tensorflow as tf\n",
    "\n",
    "from sklearn.metrics import mean_squared_error\n",
    "from sklearn.preprocessing import MinMaxScaler\n",
    "from keras.models import Sequential\n",
    "from keras.layers import Dense, Dropout, LSTM\n",
    "import pickle\n",
    "from keras import backend as K"
   ]
  },
  {
   "cell_type": "code",
   "execution_count": 3,
   "metadata": {
    "scrolled": true
   },
   "outputs": [
    {
     "ename": "AttributeError",
     "evalue": "'NoneType' object has no attribute 'point'",
     "output_type": "error",
     "traceback": [
      "\u001b[1;31m---------------------------------------------------------------------------\u001b[0m",
      "\u001b[1;31mAttributeError\u001b[0m                            Traceback (most recent call last)",
      "\u001b[1;32m<ipython-input-3-a191d7b2eee2>\u001b[0m in \u001b[0;36m<module>\u001b[1;34m\u001b[0m\n\u001b[0;32m     10\u001b[0m \u001b[0mdirectory\u001b[0m \u001b[1;33m=\u001b[0m \u001b[1;34m\"C:/Users/jonat/Desktop/Picsou/trader/\"\u001b[0m\u001b[1;33m\u001b[0m\u001b[1;33m\u001b[0m\u001b[0m\n\u001b[0;32m     11\u001b[0m \u001b[1;32mimport\u001b[0m \u001b[0mMetaTrader5\u001b[0m \u001b[1;32mas\u001b[0m \u001b[0mmt5\u001b[0m\u001b[1;33m\u001b[0m\u001b[1;33m\u001b[0m\u001b[0m\n\u001b[1;32m---> 12\u001b[1;33m \u001b[0mpoint\u001b[0m \u001b[1;33m=\u001b[0m \u001b[0mmt5\u001b[0m\u001b[1;33m.\u001b[0m\u001b[0msymbol_info\u001b[0m\u001b[1;33m(\u001b[0m\u001b[1;34m'EURUSD'\u001b[0m\u001b[1;33m)\u001b[0m\u001b[1;33m.\u001b[0m\u001b[0mpoint\u001b[0m\u001b[1;33m\u001b[0m\u001b[1;33m\u001b[0m\u001b[0m\n\u001b[0m\u001b[0;32m     13\u001b[0m \u001b[0mprint\u001b[0m\u001b[1;33m(\u001b[0m\u001b[0mpoint\u001b[0m\u001b[1;33m)\u001b[0m\u001b[1;33m\u001b[0m\u001b[1;33m\u001b[0m\u001b[0m\n\u001b[0;32m     14\u001b[0m \u001b[0mpoint\u001b[0m \u001b[1;33m=\u001b[0m \u001b[0mmt5\u001b[0m\u001b[1;33m.\u001b[0m\u001b[0msymbol_info\u001b[0m\u001b[1;33m(\u001b[0m\u001b[1;34m'EURZAR'\u001b[0m\u001b[1;33m)\u001b[0m\u001b[1;33m.\u001b[0m\u001b[0mpoint\u001b[0m\u001b[1;33m\u001b[0m\u001b[1;33m\u001b[0m\u001b[0m\n",
      "\u001b[1;31mAttributeError\u001b[0m: 'NoneType' object has no attribute 'point'"
     ]
    }
   ],
   "source": [
    "d = datetime.now()\n",
    "dstring = str(d.day) + '-' + str(d.hour) + '-' + str(d.minute)\n",
    "logging.basicConfig(filename='ForEx-Log-' + dstring,\n",
    "                            filemode='a',\n",
    "                            format='%(asctime)s,%(msecs)d %(name)s %(levelname)s %(message)s',\n",
    "                            datefmt='%H:%M:%S',\n",
    "                            level=logging.DEBUG)\n",
    "\n",
    "logging.info(\"Running FOREX TRADER\" + dstring)\n",
    "directory = \"C:/Users/jonat/Desktop/Picsou/trader/\"\n"
   ]
  },
  {
   "cell_type": "code",
   "execution_count": 4,
   "metadata": {},
   "outputs": [
    {
     "name": "stdout",
     "output_type": "stream",
     "text": [
      "MetaTrader5 package author:  MetaQuotes Software Corp.\n",
      "MetaTrader5 package version:  5.0.33\n",
      "len(*EUR*):  19\n",
      "EURUSD\n",
      "EURAUD\n",
      "EURCAD\n",
      "EURCHF\n",
      "EURCZK\n",
      "EURDKK\n",
      "EURGBP\n",
      "EURHKD\n",
      "EURHUF\n",
      "EURJPY\n",
      "EURNOK\n",
      "EURNZD\n",
      "EURPLN\n",
      "EURRUR\n",
      "EURRUB\n",
      "EURSEK\n",
      "EURTRY\n",
      "EURZAR\n",
      "EURMXN\n",
      "\n",
      "1e-05\n",
      "1e-05\n"
     ]
    },
    {
     "data": {
      "text/plain": [
       "True"
      ]
     },
     "execution_count": 4,
     "metadata": {},
     "output_type": "execute_result"
    }
   ],
   "source": [
    "import MetaTrader5 as mt5\n",
    "# display data on the MetaTrader 5 package\n",
    "print(\"MetaTrader5 package author: \",mt5.__author__)\n",
    "print(\"MetaTrader5 package version: \",mt5.__version__)\n",
    " \n",
    "# establish connection to the MetaTrader 5 terminal\n",
    "if not mt5.initialize():\n",
    "    print(\"initialize() failed, error code =\",mt5.last_error())\n",
    "    quit()\n",
    "  \n",
    "# get symbols containing RU in their names\n",
    "ru_symbols=mt5.symbols_get(\"*EUR*\")\n",
    "print('len(*EUR*): ', len(ru_symbols))\n",
    "for s in ru_symbols:\n",
    "    print(s.name)\n",
    "print()\n",
    "\n",
    "point = mt5.symbol_info('EURUSD').point\n",
    "print(point)\n",
    "point = mt5.symbol_info('EURZAR').point\n",
    "print(point)\n",
    " \n",
    "# shut down connection to the MetaTrader 5 terminal\n",
    "mt5.shutdown()"
   ]
  },
  {
   "cell_type": "code",
   "execution_count": 24,
   "metadata": {},
   "outputs": [],
   "source": [
    "#connect\n",
    "server = 'MetaQuotes-Demo'\n",
    "password = 'cpe1ppwr'\n",
    "account = 33050808\n",
    "TIMEOUT = 600000\n",
    "\n",
    "# establish connection to the MetaTrader 5 terminal\n",
    "if not mt5.initialize():\n",
    "    logging.info(\"initialize() failed, error code =\"+mt5.last_error())\n",
    "    quit()\n",
    "    \n",
    "\n",
    "authorized=mt5.login(account, password=password, server=server, timeout=TIMEOUT)\n",
    "if authorized:\n",
    "    \n",
    "    # display trading account data in the form of a list\n",
    "    logging.info(\"Show account_info()._asdict():\")\n",
    "    account_info_dict = mt5.account_info()._asdict()\n",
    "    for prop in account_info_dict:\n",
    "        logging.info(\"  {}={}\".format(prop, account_info_dict[prop]))\n",
    "else:\n",
    "    logging.info(\"failed to connect at account #{}, error code: {}\".format(account, mt5.last_error()))\n",
    " \n"
   ]
  },
  {
   "cell_type": "code",
   "execution_count": 4,
   "metadata": {},
   "outputs": [],
   "source": [
    "# get currencies rates\n",
    "currencies = ['EURCAD', 'EURCHF', 'EURGBP', 'EURJPY', 'EURUSD', 'EURCZK', 'EURDKK', 'EURHKD', 'EURHUF', 'EURMXN', 'EURNOK', 'EURNZD', 'EURPLN', 'EURRUB', 'EURSEK', 'EURTRY', 'EURZAR']\n",
    "#currencies = ['EURCAD']\n",
    "\n",
    "lookback = 12\n",
    "date = datetime.now() + timedelta(hours=2)\n",
    "date = date.replace(second=0, microsecond=0, minute=0)\n",
    "logging.info(date)\n",
    "last_rates = {}\n",
    "\n",
    "for curr in currencies:\n",
    "    curr_rates = []\n",
    "    curr_info = mt5.copy_rates_from(curr, mt5.TIMEFRAME_H1, date, lookback)\n",
    "    #print(curr_info)\n",
    "    for v in curr_info:\n",
    "        logging.info(curr+ ' h: '+ str(datetime.fromtimestamp(v[0]))+ ' rates '+ str(v[4]))\n",
    "        curr_rates.append(v[4])\n",
    "        \n",
    "    last_rates[curr] = curr_rates\n"
   ]
  },
  {
   "cell_type": "code",
   "execution_count": 5,
   "metadata": {},
   "outputs": [],
   "source": [
    "def prepareRates(last_rates, scalers):\n",
    "    data_curr = {}\n",
    "    for curr, val in last_rates.items():\n",
    "        \n",
    "        data = {}\n",
    "        \n",
    "        scaler = scalers[curr]        \n",
    "        dataset = np.reshape(val, (1, len(val)))\n",
    "        scaled_data = scaler.transform(dataset)\n",
    "                \n",
    "        data['dataset'] = scaled_data\n",
    "        data['scaler'] = scaler\n",
    "        \n",
    "        data_curr[curr] = data\n",
    "                \n",
    "    return data_curr"
   ]
  },
  {
   "cell_type": "code",
   "execution_count": 6,
   "metadata": {},
   "outputs": [],
   "source": [
    "def predictRates(data_curr, models):\n",
    "    \n",
    "    predictions = {}\n",
    "\n",
    "    i = 0\n",
    "    for curr, model in models.items():\n",
    "        x_test = data_curr[curr]['dataset']\n",
    "        X = x_test.reshape(x_test.shape[0], x_test.shape[1], 1)\n",
    "        \n",
    "        prediction = model.predict(X)\n",
    "        predictions[curr] = prediction.reshape(prediction.shape[0], 1)\n",
    "        i += 1\n",
    "    return predictions"
   ]
  },
  {
   "cell_type": "code",
   "execution_count": 7,
   "metadata": {},
   "outputs": [],
   "source": [
    "with open(directory + 'scalers', 'rb') as handle:\n",
    "    scalers = pickle.load(handle)\n",
    "    \n",
    "data_curr = prepareRates(last_rates, scalers)"
   ]
  },
  {
   "cell_type": "code",
   "execution_count": 8,
   "metadata": {},
   "outputs": [],
   "source": [
    "def loadModel(curr_key):\n",
    "    i = 0\n",
    "    models = {}\n",
    "    for curr in curr_key:\n",
    "        # load the model from disk\n",
    "        filename = directory + curr + '_model.sav'\n",
    "        loaded_model = pickle.load(open(filename, 'rb'))\n",
    "        models[curr] = loaded_model\n",
    "    return models"
   ]
  },
  {
   "cell_type": "code",
   "execution_count": 9,
   "metadata": {
    "scrolled": true
   },
   "outputs": [
    {
     "name": "stdout",
     "output_type": "stream",
     "text": [
      "WARNING:tensorflow:From C:\\Users\\jonat\\AppData\\Roaming\\Python\\Python37\\site-packages\\tensorflow_core\\python\\ops\\resource_variable_ops.py:1630: calling BaseResourceVariable.__init__ (from tensorflow.python.ops.resource_variable_ops) with constraint is deprecated and will be removed in a future version.\n",
      "Instructions for updating:\n",
      "If using Keras pass *_constraint arguments to layers.\n",
      "WARNING:tensorflow:From c:\\users\\jonat\\appdata\\local\\programs\\python\\python37\\lib\\site-packages\\keras\\backend\\tensorflow_backend.py:422: The name tf.global_variables is deprecated. Please use tf.compat.v1.global_variables instead.\n",
      "\n"
     ]
    }
   ],
   "source": [
    "models = loadModel(currencies)\n",
    "predictions = predictRates(data_curr, models)"
   ]
  },
  {
   "cell_type": "code",
   "execution_count": 10,
   "metadata": {},
   "outputs": [],
   "source": [
    "logging.info(predictions)"
   ]
  },
  {
   "cell_type": "code",
   "execution_count": 11,
   "metadata": {},
   "outputs": [],
   "source": [
    "def getActions(data_curr, predictions):\n",
    "\n",
    "    A = {}\n",
    "    test_score = 0\n",
    "    \n",
    "    for curr, dataset in data_curr.items():        \n",
    "        action = ''\n",
    "        \n",
    "        y = dataset['dataset']\n",
    "        n = len(y)\n",
    "        d_cur = y[0][-1] - y[0][-2]\n",
    "\n",
    "        d_next = predictions[curr][0][0] - y[0][-1]\n",
    "        \n",
    "        if d_cur > 0 and d_next < 0:\n",
    "            action = 'BUY'\n",
    "\n",
    "        elif d_cur < 0 and d_next > 0:\n",
    "            action = 'SELL'\n",
    "        A[curr] = action\n",
    "    \n",
    "    return A"
   ]
  },
  {
   "cell_type": "code",
   "execution_count": 12,
   "metadata": {},
   "outputs": [],
   "source": [
    "A = getActions(data_curr, predictions)\n",
    "logging.info(str(A))"
   ]
  },
  {
   "cell_type": "code",
   "execution_count": 25,
   "metadata": {},
   "outputs": [],
   "source": [
    "def get_info(symbol):\n",
    "    '''https://www.mql5.com/en/docs/integration/python_metatrader5/mt5symbolinfo_py\n",
    "    '''\n",
    "    # get symbol properties\n",
    "    info=mt5.symbol_info(symbol)\n",
    "    return info\n",
    "\n",
    "def open_trade(action, Cash, symbol, sl_points, tp_points, deviation):\n",
    "    '''https://www.mql5.com/en/docs/integration/python_metatrader5/mt5ordersend_py\n",
    "    '''\n",
    "    # prepare the buy request structure\n",
    "    ea_magic_number = 234000\n",
    "    symbol_info = get_info(symbol)\n",
    "    \n",
    "    if action == 'BUY':\n",
    "        trade_type = mt5.ORDER_TYPE_BUY\n",
    "        price = mt5.symbol_info_tick(symbol).ask\n",
    "    elif action =='SELL':\n",
    "        trade_type = mt5.ORDER_TYPE_SELL\n",
    "        price = mt5.symbol_info_tick(symbol).bid\n",
    "                \n",
    "    point = mt5.symbol_info(symbol).point\n",
    "    leverage = 100\n",
    "    tradeVolume = Cash * price * leverage / ( 100000)\n",
    "    lot = round(tradeVolume, 2)\n",
    "    lot = 0.01\n",
    "    \n",
    "    profit = 1.0\n",
    "    leverage = 500\n",
    "    ref = 220\n",
    "    \n",
    "    #tp = price + price*profit/(lot*100000) # calculate tp for exact profit € depending on lot and price\n",
    "    topprice = price/(1-profit/(lot*100000)) # calculate tp for exact profit € depending on lot and price\n",
    "    tp = round(topprice, 5)\n",
    "    \n",
    "    print('Point', point)\n",
    "\n",
    "    request = {\n",
    "        \"action\": mt5.TRADE_ACTION_DEAL,\n",
    "        \"symbol\": symbol,\n",
    "        \"volume\": lot,\n",
    "        \"type\": trade_type,\n",
    "        \"price\": price,\n",
    "        \"deviation\": deviation,\n",
    "        \"tp\": tp,\n",
    "        \"magic\": ea_magic_number,\n",
    "        \"comment\": \"sent by python\",\n",
    "        \"type_time\": mt5.ORDER_TIME_GTC, # good till cancelled\n",
    "        \"type_filling\": mt5.ORDER_FILLING_IOC,\n",
    "    }\n",
    "    # send a trading request\n",
    "    if lot >= mt5.symbol_info(symbol).volume_min:\n",
    "        result = mt5.order_send(request)\n",
    "    else:\n",
    "        result = 'lot = ' + str(tradeVolume)\n",
    "    return result, request \n",
    "\n",
    "def close_trade(position_id, symbol, lot, deviation):\n",
    "    '''https://www.mql5.com/en/docs/integration/python_metatrader5/mt5ordersend_py\n",
    "    '''\n",
    "    # create a close request\n",
    "    action = 'SELL'\n",
    "    ea_magic_number = 234000\n",
    "    if action == 'BUY':\n",
    "        trade_type = mt5.ORDER_TYPE_BUY\n",
    "        price = mt5.symbol_info_tick(symbol).ask\n",
    "    elif action =='SELL':\n",
    "        trade_type = mt5.ORDER_TYPE_SELL\n",
    "    price = mt5.symbol_info_tick(symbol).bid\n",
    "        \n",
    "    close_request={\n",
    "        \"action\": mt5.TRADE_ACTION_DEAL,\n",
    "        \"symbol\": symbol,\n",
    "        \"volume\": lot,\n",
    "        \"type\": mt5.ORDER_TYPE_SELL,\n",
    "        \"position\": position_id,\n",
    "        \"price\": price,\n",
    "        \"deviation\": deviation,\n",
    "        \"magic\": ea_magic_number,\n",
    "        \"comment\": \"python script close\",\n",
    "        \"type_time\": mt5.ORDER_TIME_GTC, # good till cancelled\n",
    "        \"type_filling\": mt5.ORDER_FILLING_IOC,\n",
    "    }\n",
    "    # send a close request\n",
    "    result=mt5.order_send(close_request)\n",
    "    return result, close_request "
   ]
  },
  {
   "cell_type": "code",
   "execution_count": 26,
   "metadata": {},
   "outputs": [],
   "source": [
    "sl_points = 100\n",
    "tp_points = 1000\n",
    "deviation = 50\n",
    "count_buy = 0\n",
    "for curr, a in A.items():\n",
    "    if a == 'BUY':\n",
    "        count_buy += 1"
   ]
  },
  {
   "cell_type": "code",
   "execution_count": 27,
   "metadata": {},
   "outputs": [
    {
     "name": "stdout",
     "output_type": "stream",
     "text": [
      "volume_min 0.01\n",
      "volume_max 500.0\n",
      "volume_min 0.01\n",
      "volume_max 500.0\n",
      "volume_min 0.01\n",
      "volume_max 500.0\n",
      "Point 1e-05\n",
      "volume_min 0.01\n",
      "volume_max 500.0\n",
      "volume_min 0.01\n",
      "volume_max 500.0\n",
      "Point 1e-05\n",
      "volume_min 0.01\n",
      "volume_max 1000.0\n",
      "Point 1e-05\n",
      "volume_min 0.01\n",
      "volume_max 1000.0\n",
      "volume_min 0.1\n",
      "volume_max 500.0\n",
      "Point 1e-05\n",
      "volume_min 0.01\n",
      "volume_max 1000.0\n",
      "Point 0.001\n",
      "volume_min 0.01\n",
      "volume_max 1000.0\n",
      "volume_min 0.01\n",
      "volume_max 1000.0\n",
      "volume_min 0.01\n",
      "volume_max 500.0\n",
      "volume_min 0.01\n",
      "volume_max 1000.0\n",
      "volume_min 0.01\n",
      "volume_max 1000.0\n",
      "volume_min 0.01\n",
      "volume_max 1000.0\n",
      "volume_min 0.01\n",
      "volume_max 10000.0\n",
      "volume_min 0.01\n",
      "volume_max 1000.0\n",
      "Point 1e-05\n"
     ]
    },
    {
     "data": {
      "text/plain": [
       "True"
      ]
     },
     "execution_count": 27,
     "metadata": {},
     "output_type": "execute_result"
    }
   ],
   "source": [
    "for symbol, action in A.items():\n",
    "    \n",
    "    logging.info(action + ' ' + symbol)\n",
    "    \n",
    "    proft_margin = 0.1\n",
    "    positions=mt5.positions_get(symbol=symbol)\n",
    "    for position in positions:\n",
    "        if position.profit > proft_margin:\n",
    "            lot = position.volume\n",
    "            position_id = position.ticket\n",
    "            result, close_request  = close_trade(position_id, symbol, lot, deviation)\n",
    "            logging.info('result:'+ str(result))\n",
    "            logging.info('close_request:'+ str(close_request))\n",
    "\n",
    "    if action == 'SELL':\n",
    "        positions=mt5.positions_get(symbol=symbol)\n",
    "        if positions==None:\n",
    "            logging.info(\"No positions on,\"+ symbol+\", error code={}\".format(mt5.last_error()))\n",
    "        elif len(positions)>0:\n",
    "            logging.info(\"Total positions on \"+ symbol+\" =\"+str(len(positions)))\n",
    "            # display all open positions\n",
    "            for position in positions:\n",
    "                if position.profit > 0:\n",
    "                    logging.info(str(position))\n",
    "                    lot = position.volume\n",
    "                    position_id = position.ticket\n",
    "\n",
    "                    result, close_request  = close_trade(position_id, symbol, lot, deviation)\n",
    "                    logging.info('result:'+ str(result))\n",
    "                    logging.info('close_request:'+ str(close_request))\n",
    "                    \n",
    "risk = 2/100\n",
    "account_info_dict = mt5.account_info()._asdict()\n",
    "Cash = account_info_dict['margin_free']*risk/count_buy\n",
    "for symbol, action in A.items():                    \n",
    "    if action == 'BUY' and account_info_dict['margin_free'] > 50:\n",
    "        \n",
    "        result, request = open_trade(action, Cash, symbol, sl_points, tp_points, deviation)\n",
    "        logging.info('request:'+ str(request))\n",
    "        logging.info('result:'+ str(result))\n",
    "        \n",
    "    \n",
    "    \n",
    "                    \n",
    "mt5.shutdown()"
   ]
  },
  {
   "cell_type": "code",
   "execution_count": null,
   "metadata": {},
   "outputs": [],
   "source": []
  }
 ],
 "metadata": {
  "kernelspec": {
   "display_name": "Python 3",
   "language": "python",
   "name": "python3"
  },
  "language_info": {
   "codemirror_mode": {
    "name": "ipython",
    "version": 3
   },
   "file_extension": ".py",
   "mimetype": "text/x-python",
   "name": "python",
   "nbconvert_exporter": "python",
   "pygments_lexer": "ipython3",
   "version": "3.7.4"
  }
 },
 "nbformat": 4,
 "nbformat_minor": 4
}
