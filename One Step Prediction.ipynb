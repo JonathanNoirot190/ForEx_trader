{
 "cells": [
  {
   "cell_type": "code",
   "execution_count": 15,
   "metadata": {},
   "outputs": [
    {
     "name": "stderr",
     "output_type": "stream",
     "text": [
      "Using TensorFlow backend.\n"
     ]
    }
   ],
   "source": [
    "from pandas import read_csv\n",
    "from datetime import datetime\n",
    "import matplotlib as mpl\n",
    "from matplotlib import pylab as plt\n",
    "import matplotlib.dates as mdates\n",
    "import pandas as pd\n",
    "import collections\n",
    "import seaborn as sns\n",
    "import numpy as np\n",
    "import tensorflow as tf\n",
    "\n",
    "from sklearn.metrics import mean_squared_error\n",
    "from sklearn.preprocessing import MinMaxScaler\n",
    "from keras.models import Sequential\n",
    "from keras.layers import Dense, Dropout, LSTM\n",
    "import pickle"
   ]
  },
  {
   "cell_type": "code",
   "execution_count": 16,
   "metadata": {
    "scrolled": true
   },
   "outputs": [],
   "source": [
    "# load data\n",
    "currencies = ['EXR.D.AUD.EUR.SP00.A', 'EXR.D.BRL.EUR.SP00.A', 'EXR.D.CAD.EUR.SP00.A', 'EXR.D.CNY.EUR.SP00.A', 'EXR.D.GBP.EUR.SP00.A',\n",
    "              'EXR.D.HKD.EUR.SP00.A', 'EXR.D.IDR.EUR.SP00.A', 'EXR.D.INR.EUR.SP00.A', 'EXR.D.JPY.EUR.SP00.A', 'EXR.D.MYR.EUR.SP00.A']\n",
    "def builData(curr_key):\n",
    "    \n",
    "    print('Loading data and parsing date')\n",
    "    \n",
    "    def parse(x):\n",
    "        return datetime.strptime(x, '%Y-%m-%d')\n",
    "\n",
    "    df = read_csv('inr.csv', parse_dates=['date'], date_parser=parse)\n",
    "    print('Data loaded succesfully ')\n",
    "\n",
    "    # dataset.index.name = 'date'\n",
    "\n",
    "    # dataset.drop('Unnamed: 0', axis=1, inplace=True)\n",
    "\n",
    "    # mark all NA values with 0\n",
    "    \n",
    "    for curr in df.columns:\n",
    "        if df[curr][3] == 0:\n",
    "            df.drop(curr, axis=1, inplace=True)\n",
    "            print('Deleted currency: ', curr)\n",
    "        elif 'Unnamed' in curr:\n",
    "            df.drop(curr, axis=1, inplace=True)\n",
    "            print('Deleted currency: ', curr)\n",
    "        \n",
    "        elif curr != 'date' and curr in curr_key:\n",
    "            \n",
    "            print('Reading currency: ', curr)\n",
    "            df[curr].fillna(0, inplace=True)\n",
    "            df[curr] = df[curr].replace('-', 0)\n",
    "\n",
    "            i = 0\n",
    "            for v in df[curr]:                \n",
    "\n",
    "                df[curr][i] = float(df[curr][i])\n",
    "                if i < len(df[curr])-1 and df[curr][i] == 0:\n",
    "                    df[curr][i] = float(df[curr][i+1])        \n",
    "                i += 1\n",
    "\n",
    "            print('Selected currency: ', curr)\n",
    "        elif curr != 'date':\n",
    "            df.drop(curr, axis=1, inplace=True)  \n",
    "            print('Deleted currency: ', curr)\n",
    "\n",
    "\n",
    "    df.info()\n",
    "    print(df.head(5))\n",
    "    curr_key = df.columns\n",
    "    return df, curr_key[1:]"
   ]
  },
  {
   "cell_type": "code",
   "execution_count": 17,
   "metadata": {
    "scrolled": false
   },
   "outputs": [
    {
     "name": "stdout",
     "output_type": "stream",
     "text": [
      "Loading data and parsing date\n",
      "Data loaded succesfully \n",
      "Deleted currency:  Unnamed: 0\n",
      "Reading currency:  EXR.D.AUD.EUR.SP00.A\n"
     ]
    },
    {
     "name": "stderr",
     "output_type": "stream",
     "text": [
      "/home/jojo/anaconda3/lib/python3.7/site-packages/ipykernel_launcher.py:37: SettingWithCopyWarning: \n",
      "A value is trying to be set on a copy of a slice from a DataFrame\n",
      "\n",
      "See the caveats in the documentation: http://pandas.pydata.org/pandas-docs/stable/indexing.html#indexing-view-versus-copy\n",
      "/home/jojo/anaconda3/lib/python3.7/site-packages/ipykernel_launcher.py:39: SettingWithCopyWarning: \n",
      "A value is trying to be set on a copy of a slice from a DataFrame\n",
      "\n",
      "See the caveats in the documentation: http://pandas.pydata.org/pandas-docs/stable/indexing.html#indexing-view-versus-copy\n"
     ]
    },
    {
     "ename": "KeyboardInterrupt",
     "evalue": "",
     "output_type": "error",
     "traceback": [
      "\u001b[0;31m---------------------------------------------------------------------------\u001b[0m",
      "\u001b[0;31mKeyboardInterrupt\u001b[0m                         Traceback (most recent call last)",
      "\u001b[0;32m<ipython-input-17-50920fcb4b10>\u001b[0m in \u001b[0;36m<module>\u001b[0;34m\u001b[0m\n\u001b[0;32m----> 1\u001b[0;31m \u001b[0mdf\u001b[0m\u001b[0;34m,\u001b[0m \u001b[0mcurr_key\u001b[0m \u001b[0;34m=\u001b[0m \u001b[0mbuilData\u001b[0m\u001b[0;34m(\u001b[0m\u001b[0mcurrencies\u001b[0m\u001b[0;34m)\u001b[0m\u001b[0;34m\u001b[0m\u001b[0;34m\u001b[0m\u001b[0m\n\u001b[0m\u001b[1;32m      2\u001b[0m \u001b[0mdf\u001b[0m\u001b[0;34m.\u001b[0m\u001b[0mto_pickle\u001b[0m\u001b[0;34m(\u001b[0m\u001b[0;34m'currency_day'\u001b[0m\u001b[0;34m)\u001b[0m\u001b[0;34m\u001b[0m\u001b[0;34m\u001b[0m\u001b[0m\n",
      "\u001b[0;32m<ipython-input-16-5af1cf48b248>\u001b[0m in \u001b[0;36mbuilData\u001b[0;34m(curr_key)\u001b[0m\n\u001b[1;32m     35\u001b[0m             \u001b[0;32mfor\u001b[0m \u001b[0mv\u001b[0m \u001b[0;32min\u001b[0m \u001b[0mdf\u001b[0m\u001b[0;34m[\u001b[0m\u001b[0mcurr\u001b[0m\u001b[0;34m]\u001b[0m\u001b[0;34m:\u001b[0m\u001b[0;34m\u001b[0m\u001b[0;34m\u001b[0m\u001b[0m\n\u001b[1;32m     36\u001b[0m \u001b[0;34m\u001b[0m\u001b[0m\n\u001b[0;32m---> 37\u001b[0;31m                 \u001b[0mdf\u001b[0m\u001b[0;34m[\u001b[0m\u001b[0mcurr\u001b[0m\u001b[0;34m]\u001b[0m\u001b[0;34m[\u001b[0m\u001b[0mi\u001b[0m\u001b[0;34m]\u001b[0m \u001b[0;34m=\u001b[0m \u001b[0mfloat\u001b[0m\u001b[0;34m(\u001b[0m\u001b[0mdf\u001b[0m\u001b[0;34m[\u001b[0m\u001b[0mcurr\u001b[0m\u001b[0;34m]\u001b[0m\u001b[0;34m[\u001b[0m\u001b[0mi\u001b[0m\u001b[0;34m]\u001b[0m\u001b[0;34m)\u001b[0m\u001b[0;34m\u001b[0m\u001b[0;34m\u001b[0m\u001b[0m\n\u001b[0m\u001b[1;32m     38\u001b[0m                 \u001b[0;32mif\u001b[0m \u001b[0mi\u001b[0m \u001b[0;34m<\u001b[0m \u001b[0mlen\u001b[0m\u001b[0;34m(\u001b[0m\u001b[0mdf\u001b[0m\u001b[0;34m[\u001b[0m\u001b[0mcurr\u001b[0m\u001b[0;34m]\u001b[0m\u001b[0;34m)\u001b[0m\u001b[0;34m-\u001b[0m\u001b[0;36m1\u001b[0m \u001b[0;32mand\u001b[0m \u001b[0mdf\u001b[0m\u001b[0;34m[\u001b[0m\u001b[0mcurr\u001b[0m\u001b[0;34m]\u001b[0m\u001b[0;34m[\u001b[0m\u001b[0mi\u001b[0m\u001b[0;34m]\u001b[0m \u001b[0;34m==\u001b[0m \u001b[0;36m0\u001b[0m\u001b[0;34m:\u001b[0m\u001b[0;34m\u001b[0m\u001b[0;34m\u001b[0m\u001b[0m\n\u001b[1;32m     39\u001b[0m                     \u001b[0mdf\u001b[0m\u001b[0;34m[\u001b[0m\u001b[0mcurr\u001b[0m\u001b[0;34m]\u001b[0m\u001b[0;34m[\u001b[0m\u001b[0mi\u001b[0m\u001b[0;34m]\u001b[0m \u001b[0;34m=\u001b[0m \u001b[0mfloat\u001b[0m\u001b[0;34m(\u001b[0m\u001b[0mdf\u001b[0m\u001b[0;34m[\u001b[0m\u001b[0mcurr\u001b[0m\u001b[0;34m]\u001b[0m\u001b[0;34m[\u001b[0m\u001b[0mi\u001b[0m\u001b[0;34m+\u001b[0m\u001b[0;36m1\u001b[0m\u001b[0;34m]\u001b[0m\u001b[0;34m)\u001b[0m\u001b[0;34m\u001b[0m\u001b[0;34m\u001b[0m\u001b[0m\n",
      "\u001b[0;32m~/anaconda3/lib/python3.7/site-packages/pandas/core/series.py\u001b[0m in \u001b[0;36m__setitem__\u001b[0;34m(self, key, value)\u001b[0m\n\u001b[1;32m   1036\u001b[0m \u001b[0;34m\u001b[0m\u001b[0m\n\u001b[1;32m   1037\u001b[0m         \u001b[0;31m# do the setitem\u001b[0m\u001b[0;34m\u001b[0m\u001b[0;34m\u001b[0m\u001b[0;34m\u001b[0m\u001b[0m\n\u001b[0;32m-> 1038\u001b[0;31m         \u001b[0mcacher_needs_updating\u001b[0m \u001b[0;34m=\u001b[0m \u001b[0mself\u001b[0m\u001b[0;34m.\u001b[0m\u001b[0m_check_is_chained_assignment_possible\u001b[0m\u001b[0;34m(\u001b[0m\u001b[0;34m)\u001b[0m\u001b[0;34m\u001b[0m\u001b[0;34m\u001b[0m\u001b[0m\n\u001b[0m\u001b[1;32m   1039\u001b[0m         \u001b[0msetitem\u001b[0m\u001b[0;34m(\u001b[0m\u001b[0mkey\u001b[0m\u001b[0;34m,\u001b[0m \u001b[0mvalue\u001b[0m\u001b[0;34m)\u001b[0m\u001b[0;34m\u001b[0m\u001b[0;34m\u001b[0m\u001b[0m\n\u001b[1;32m   1040\u001b[0m         \u001b[0;32mif\u001b[0m \u001b[0mcacher_needs_updating\u001b[0m\u001b[0;34m:\u001b[0m\u001b[0;34m\u001b[0m\u001b[0;34m\u001b[0m\u001b[0m\n",
      "\u001b[0;32m~/anaconda3/lib/python3.7/site-packages/pandas/core/generic.py\u001b[0m in \u001b[0;36m_check_is_chained_assignment_possible\u001b[0;34m(self)\u001b[0m\n\u001b[1;32m   3197\u001b[0m             \u001b[0;32mif\u001b[0m \u001b[0mref\u001b[0m \u001b[0;32mis\u001b[0m \u001b[0;32mnot\u001b[0m \u001b[0;32mNone\u001b[0m \u001b[0;32mand\u001b[0m \u001b[0mref\u001b[0m\u001b[0;34m.\u001b[0m\u001b[0m_is_mixed_type\u001b[0m\u001b[0;34m:\u001b[0m\u001b[0;34m\u001b[0m\u001b[0;34m\u001b[0m\u001b[0m\n\u001b[1;32m   3198\u001b[0m                 self._check_setitem_copy(stacklevel=4, t='referant',\n\u001b[0;32m-> 3199\u001b[0;31m                                          force=True)\n\u001b[0m\u001b[1;32m   3200\u001b[0m             \u001b[0;32mreturn\u001b[0m \u001b[0;32mTrue\u001b[0m\u001b[0;34m\u001b[0m\u001b[0;34m\u001b[0m\u001b[0m\n\u001b[1;32m   3201\u001b[0m         \u001b[0;32melif\u001b[0m \u001b[0mself\u001b[0m\u001b[0;34m.\u001b[0m\u001b[0m_is_copy\u001b[0m\u001b[0;34m:\u001b[0m\u001b[0;34m\u001b[0m\u001b[0;34m\u001b[0m\u001b[0m\n",
      "\u001b[0;32m~/anaconda3/lib/python3.7/site-packages/pandas/core/generic.py\u001b[0m in \u001b[0;36m_check_setitem_copy\u001b[0;34m(self, stacklevel, t, force)\u001b[0m\n\u001b[1;32m   3243\u001b[0m             \u001b[0;31m# the copy weakref\u001b[0m\u001b[0;34m\u001b[0m\u001b[0;34m\u001b[0m\u001b[0;34m\u001b[0m\u001b[0m\n\u001b[1;32m   3244\u001b[0m             \u001b[0;32mtry\u001b[0m\u001b[0;34m:\u001b[0m\u001b[0;34m\u001b[0m\u001b[0;34m\u001b[0m\u001b[0m\n\u001b[0;32m-> 3245\u001b[0;31m                 \u001b[0mgc\u001b[0m\u001b[0;34m.\u001b[0m\u001b[0mcollect\u001b[0m\u001b[0;34m(\u001b[0m\u001b[0;36m2\u001b[0m\u001b[0;34m)\u001b[0m\u001b[0;34m\u001b[0m\u001b[0;34m\u001b[0m\u001b[0m\n\u001b[0m\u001b[1;32m   3246\u001b[0m                 \u001b[0;32mif\u001b[0m \u001b[0;32mnot\u001b[0m \u001b[0mgc\u001b[0m\u001b[0;34m.\u001b[0m\u001b[0mget_referents\u001b[0m\u001b[0;34m(\u001b[0m\u001b[0mself\u001b[0m\u001b[0;34m.\u001b[0m\u001b[0m_is_copy\u001b[0m\u001b[0;34m(\u001b[0m\u001b[0;34m)\u001b[0m\u001b[0;34m)\u001b[0m\u001b[0;34m:\u001b[0m\u001b[0;34m\u001b[0m\u001b[0;34m\u001b[0m\u001b[0m\n\u001b[1;32m   3247\u001b[0m                     \u001b[0mself\u001b[0m\u001b[0;34m.\u001b[0m\u001b[0m_is_copy\u001b[0m \u001b[0;34m=\u001b[0m \u001b[0;32mNone\u001b[0m\u001b[0;34m\u001b[0m\u001b[0;34m\u001b[0m\u001b[0m\n",
      "\u001b[0;31mKeyboardInterrupt\u001b[0m: "
     ]
    }
   ],
   "source": [
    "df, curr_key = builData(currencies)\n",
    "df.to_pickle('currency_day')"
   ]
  },
  {
   "cell_type": "code",
   "execution_count": 24,
   "metadata": {},
   "outputs": [],
   "source": [
    "def prepareData(df):\n",
    "    #creating train and test sets\n",
    "    start_date = '1999-01-04'\n",
    "    start = 365 * 15 #2015\n",
    "    # df.columns.drop(['Unnamed: 0', 'date'])\n",
    "\n",
    "    dataset = df.values\n",
    "\n",
    "    dataset = np.array(sorted(dataset, key=lambda p: p[0], reverse=False))\n",
    "    dataset = dataset[-start:, 1:].astype(np.float64)\n",
    "    print(dataset.shape)\n",
    "    n_curr = len(df.columns) - 1\n",
    "\n",
    "    train_size = int(dataset.shape[0]*0.8)\n",
    "\n",
    "    train = dataset[:train_size, :]\n",
    "    valid = dataset[train_size:, :]\n",
    "    #converting dataset into x_train and y_train\n",
    "    scaler = MinMaxScaler(feature_range=(0, 1))\n",
    "    scaled_data = scaler.fit_transform(train)\n",
    "    scaled_data_test = scaler.fit_transform(valid)\n",
    "\n",
    "    x_train, y_train = [], []\n",
    "    x_test, y_test = [], []\n",
    "\n",
    "    lookback = 60\n",
    "    for i in range(lookback,len(train)):\n",
    "        x_train.append(scaled_data[i-lookback:i,:])\n",
    "        y_train.append(scaled_data[i,:])\n",
    "    for i in range(lookback,len(valid)):\n",
    "        x_test.append(scaled_data_test[i-lookback:i,:])\n",
    "        y_test.append(scaled_data_test[i,:])\n",
    "\n",
    "    x_train, y_train = np.array(x_train), np.array(y_train)\n",
    "    x_test, y_test = np.array(x_test), np.array(y_test)\n",
    "\n",
    "    x_train = np.reshape(x_train, (x_train.shape[0],x_train.shape[1],n_curr))\n",
    "    x_test = np.reshape(x_test, (x_test.shape[0],x_test.shape[1],n_curr))\n",
    "    print(x_train.shape)\n",
    "    print(y_train.shape)\n",
    "    return x_train, y_train, x_test, y_test, scaler"
   ]
  },
  {
   "cell_type": "code",
   "execution_count": 2,
   "metadata": {},
   "outputs": [],
   "source": [
    "def buildModel(x_train, y_train, curr_key):\n",
    "    i = 0\n",
    "    horizon = 50\n",
    "    for curr in curr_key:\n",
    "        # create and fit the LSTM network\n",
    "        model = Sequential()\n",
    "        model.add(LSTM(units=50, return_sequences=True, input_shape=(x_train.shape[1],1)))\n",
    "        model.add(LSTM(units=horizon, dropout=0.2, recurrent_dropout=0.2))\n",
    "        model.add(Dense(1))\n",
    "        X = x_train[:, :, i].reshape(x_train.shape[0], x_train.shape[1], 1)\n",
    "        y = y_train[:, i]\n",
    "\n",
    "        model.compile(loss='mean_squared_error', optimizer='adam')\n",
    "        history = model.fit(X, y, epochs=1, batch_size=1, verbose=1)\n",
    "        filename = curr + '_model.sav'\n",
    "        pickle.dump(model, open(filename, 'wb'))\n",
    "        print('Model created :', curr)\n",
    "\n",
    "        i += 1\n",
    "        model = 0\n",
    "        \n",
    "    print('Total created models: ', i)\n",
    "    "
   ]
  },
  {
   "cell_type": "code",
   "execution_count": 3,
   "metadata": {},
   "outputs": [],
   "source": [
    "def loadModel(curr_key):\n",
    "    i = 0\n",
    "    models = []\n",
    "    for curr in curr_key:\n",
    "        # load the model from disk\n",
    "        filename = curr + '_model.sav'\n",
    "        loaded_model = pickle.load(open(filename, 'rb'))\n",
    "        models.append(loaded_model)\n",
    "        print('Loaded model: ', filename)\n",
    "    return models"
   ]
  },
  {
   "cell_type": "code",
   "execution_count": 4,
   "metadata": {},
   "outputs": [],
   "source": [
    "def predict(x_test, models):\n",
    "    predict_arr = np.zeros((x_test.shape[0], len(models)))\n",
    "\n",
    "    i = 0\n",
    "    for model in models:\n",
    "        X = x_test[:, :, i].reshape(x_test.shape[0], x_test.shape[1], 1)\n",
    "        \n",
    "        prediction = model.predict(X)\n",
    "        predict_arr[:, i] = prediction.reshape(prediction.shape[0],)\n",
    "        i += 1\n",
    "    return predict_arr"
   ]
  },
  {
   "cell_type": "code",
   "execution_count": 5,
   "metadata": {},
   "outputs": [],
   "source": [
    "def getMSE(x_train, y_train, models, scaler):\n",
    "    i = 0\n",
    "    mse_arr = []\n",
    "    ps = 0*y_train\n",
    "    for model in models:\n",
    "        X = x_train[:, :, i].reshape(x_train.shape[0], x_train.shape[1], 1)\n",
    "        p = model.predict(X)\n",
    "        ps[:, i] = p.reshape(p.shape[0],)\n",
    "        i += 1\n",
    "\n",
    "    y_train_inv = scaler.inverse_transform(y_train)\n",
    "    predict = scaler.inverse_transform(ps)\n",
    "    \n",
    "    for j in range(len(models)):\n",
    "        mse = mean_squared_error(y_train_inv[:, j], predict[:, j])\n",
    "        mse_arr.append(mse)\n",
    "    return mse_arr"
   ]
  },
  {
   "cell_type": "code",
   "execution_count": 6,
   "metadata": {},
   "outputs": [
    {
     "ename": "NameError",
     "evalue": "name 'pd' is not defined",
     "output_type": "error",
     "traceback": [
      "\u001b[0;31m---------------------------------------------------------------------------\u001b[0m",
      "\u001b[0;31mNameError\u001b[0m                                 Traceback (most recent call last)",
      "\u001b[0;32m<ipython-input-6-567a73683582>\u001b[0m in \u001b[0;36m<module>\u001b[0;34m\u001b[0m\n\u001b[0;32m----> 1\u001b[0;31m \u001b[0mdf\u001b[0m \u001b[0;34m=\u001b[0m \u001b[0mpd\u001b[0m\u001b[0;34m.\u001b[0m\u001b[0mread_pickle\u001b[0m\u001b[0;34m(\u001b[0m\u001b[0;34m'currency_day'\u001b[0m\u001b[0;34m)\u001b[0m\u001b[0;34m\u001b[0m\u001b[0;34m\u001b[0m\u001b[0m\n\u001b[0m\u001b[1;32m      2\u001b[0m \u001b[0mdf\u001b[0m\u001b[0;34m.\u001b[0m\u001b[0mhead\u001b[0m\u001b[0;34m(\u001b[0m\u001b[0;36m5\u001b[0m\u001b[0;34m)\u001b[0m\u001b[0;34m\u001b[0m\u001b[0;34m\u001b[0m\u001b[0m\n",
      "\u001b[0;31mNameError\u001b[0m: name 'pd' is not defined"
     ]
    }
   ],
   "source": [
    "df = pd.read_pickle('currency_day')\n",
    "df.head(5)"
   ]
  },
  {
   "cell_type": "code",
   "execution_count": null,
   "metadata": {},
   "outputs": [],
   "source": [
    "x_train, y_train, x_test, y_test, scaler = prepareData(df)"
   ]
  },
  {
   "cell_type": "code",
   "execution_count": 7,
   "metadata": {},
   "outputs": [
    {
     "ename": "NameError",
     "evalue": "name 'currencies' is not defined",
     "output_type": "error",
     "traceback": [
      "\u001b[0;31m---------------------------------------------------------------------------\u001b[0m",
      "\u001b[0;31mNameError\u001b[0m                                 Traceback (most recent call last)",
      "\u001b[0;32m<ipython-input-7-d9c81043da0f>\u001b[0m in \u001b[0;36m<module>\u001b[0;34m\u001b[0m\n\u001b[0;32m----> 1\u001b[0;31m \u001b[0mcurr_key\u001b[0m \u001b[0;34m=\u001b[0m \u001b[0mcurrencies\u001b[0m\u001b[0;34m\u001b[0m\u001b[0;34m\u001b[0m\u001b[0m\n\u001b[0m\u001b[1;32m      2\u001b[0m \u001b[0mprint\u001b[0m\u001b[0;34m(\u001b[0m\u001b[0mcurr_key\u001b[0m\u001b[0;34m)\u001b[0m\u001b[0;34m\u001b[0m\u001b[0;34m\u001b[0m\u001b[0m\n\u001b[1;32m      3\u001b[0m \u001b[0mbuildModel\u001b[0m\u001b[0;34m(\u001b[0m\u001b[0mx_train\u001b[0m\u001b[0;34m,\u001b[0m \u001b[0my_train\u001b[0m\u001b[0;34m,\u001b[0m \u001b[0mcurr_key\u001b[0m\u001b[0;34m)\u001b[0m\u001b[0;34m\u001b[0m\u001b[0;34m\u001b[0m\u001b[0m\n",
      "\u001b[0;31mNameError\u001b[0m: name 'currencies' is not defined"
     ]
    }
   ],
   "source": [
    "curr_key = currencies\n",
    "print(curr_key)\n",
    "buildModel(x_train, y_train, curr_key)"
   ]
  },
  {
   "cell_type": "code",
   "execution_count": null,
   "metadata": {},
   "outputs": [],
   "source": [
    "print(curr_key)"
   ]
  },
  {
   "cell_type": "code",
   "execution_count": null,
   "metadata": {},
   "outputs": [],
   "source": [
    "models = loadModel(curr_key)"
   ]
  },
  {
   "cell_type": "code",
   "execution_count": 8,
   "metadata": {},
   "outputs": [
    {
     "ename": "NameError",
     "evalue": "name 'x_test' is not defined",
     "output_type": "error",
     "traceback": [
      "\u001b[0;31m---------------------------------------------------------------------------\u001b[0m",
      "\u001b[0;31mNameError\u001b[0m                                 Traceback (most recent call last)",
      "\u001b[0;32m<ipython-input-8-7f6fc01d3e6f>\u001b[0m in \u001b[0;36m<module>\u001b[0;34m\u001b[0m\n\u001b[0;32m----> 1\u001b[0;31m \u001b[0mpredict_arr\u001b[0m \u001b[0;34m=\u001b[0m \u001b[0mpredict\u001b[0m\u001b[0;34m(\u001b[0m\u001b[0mx_test\u001b[0m\u001b[0;34m,\u001b[0m \u001b[0mmodels\u001b[0m\u001b[0;34m)\u001b[0m\u001b[0;34m\u001b[0m\u001b[0;34m\u001b[0m\u001b[0m\n\u001b[0m",
      "\u001b[0;31mNameError\u001b[0m: name 'x_test' is not defined"
     ]
    }
   ],
   "source": [
    "predict_arr = predict(x_test, models)"
   ]
  },
  {
   "cell_type": "code",
   "execution_count": null,
   "metadata": {
    "scrolled": false
   },
   "outputs": [],
   "source": [
    "y_test_inv = scaler.inverse_transform(y_test)\n",
    "predict = scaler.inverse_transform(predict_arr)\n",
    "\n",
    "mse_arr = getMSE(x_train, y_train, models, scaler)\n",
    "\n",
    "horizon = 100\n",
    "for i in range(len(curr_key)):\n",
    "    xs = np.arange(int(horizon))\n",
    "    fig = plt.figure(figsize=(12, 6))\n",
    "    ax = fig.add_subplot(1, 1, 1)\n",
    "\n",
    "    ax.plot(xs, y_test_inv[-horizon:, i], label='Real ' + curr_key[i], lw=2, color='blue')\n",
    "    ax.plot(xs, predict[-horizon:, i], label='Forecast ' + curr_key[i], lw=2, color='red')\n",
    "\n",
    "    rmse = mse_arr[i]\n",
    "\n",
    "    rmse_max = [float(p) + float(rmse)/2 for p in predict[:, i]]\n",
    "    rmse_min = [float(p) - float(rmse)/2 for p in predict[:, i]]\n",
    "\n",
    "    ax.fill_between(xs, rmse_max[-horizon:], rmse_min[-horizon:], color='red', alpha=0.2)\n",
    "    plt.show()"
   ]
  },
  {
   "cell_type": "code",
   "execution_count": 9,
   "metadata": {},
   "outputs": [],
   "source": [
    "def getActions(y, V, Cash, T):\n",
    "    n = V.shape[1]\n",
    "    t_cur = T\n",
    "    t_prev = t_cur - 1\n",
    "    t_prev2 = t_prev - 1\n",
    "    t_next = t_cur + 1\n",
    "    \n",
    "    X_eur = Cash[t_cur, -1]\n",
    "    X_new = X_eur\n",
    "    A = []\n",
    "    \n",
    "    for c in range(n):\n",
    "        action = ''\n",
    "        X = 0\n",
    "\n",
    "        d_prev = y[t_prev, c] - y[t_prev2, c]\n",
    "        d_cur = y[t_cur, c] - y[t_prev, c]\n",
    "        d_next = V[t_next, c] - y[t_cur, c]\n",
    "\n",
    "        if d_prev > 0 and d_cur > 0 and d_next < 0:\n",
    "            action = 'BUY'\n",
    "\n",
    "        elif d_prev > 0 and d_cur < 0 and d_next < 0:\n",
    "            action = 'BUY'\n",
    "\n",
    "        elif d_prev < 0 and d_cur < 0 and d_next > 0:\n",
    "            action = 'SELL'\n",
    "\n",
    "        elif d_prev < 0 and d_cur > 0 and d_next > 0:\n",
    "            action = 'SELL'\n",
    "        A.append([action, X])\n",
    "    \n",
    "    return A"
   ]
  },
  {
   "cell_type": "code",
   "execution_count": 10,
   "metadata": {},
   "outputs": [
    {
     "ename": "TypeError",
     "evalue": "'function' object is not subscriptable",
     "output_type": "error",
     "traceback": [
      "\u001b[0;31m---------------------------------------------------------------------------\u001b[0m",
      "\u001b[0;31mTypeError\u001b[0m                                 Traceback (most recent call last)",
      "\u001b[0;32m<ipython-input-10-ed2b215f4f48>\u001b[0m in \u001b[0;36m<module>\u001b[0;34m\u001b[0m\n\u001b[1;32m      1\u001b[0m \u001b[0mhorizon\u001b[0m\u001b[0;34m=\u001b[0m\u001b[0;36m100\u001b[0m\u001b[0;34m\u001b[0m\u001b[0;34m\u001b[0m\u001b[0m\n\u001b[1;32m      2\u001b[0m \u001b[0;34m\u001b[0m\u001b[0m\n\u001b[0;32m----> 3\u001b[0;31m \u001b[0mV\u001b[0m \u001b[0;34m=\u001b[0m \u001b[0mpredict\u001b[0m\u001b[0;34m[\u001b[0m\u001b[0;34m-\u001b[0m\u001b[0mhorizon\u001b[0m\u001b[0;34m-\u001b[0m\u001b[0;36m1\u001b[0m\u001b[0;34m:\u001b[0m\u001b[0;34m,\u001b[0m \u001b[0;34m:\u001b[0m\u001b[0;34m]\u001b[0m\u001b[0;34m\u001b[0m\u001b[0;34m\u001b[0m\u001b[0m\n\u001b[0m\u001b[1;32m      4\u001b[0m \u001b[0my\u001b[0m \u001b[0;34m=\u001b[0m \u001b[0my_test_inv\u001b[0m\u001b[0;34m[\u001b[0m\u001b[0;34m-\u001b[0m\u001b[0mhorizon\u001b[0m\u001b[0;34m-\u001b[0m\u001b[0;36m1\u001b[0m\u001b[0;34m:\u001b[0m\u001b[0;34m,\u001b[0m \u001b[0;34m:\u001b[0m\u001b[0;34m]\u001b[0m\u001b[0;34m\u001b[0m\u001b[0;34m\u001b[0m\u001b[0m\n\u001b[1;32m      5\u001b[0m \u001b[0mV\u001b[0m\u001b[0;34m[\u001b[0m\u001b[0;36m0\u001b[0m\u001b[0;34m,\u001b[0m \u001b[0;34m:\u001b[0m\u001b[0;34m]\u001b[0m \u001b[0;34m=\u001b[0m \u001b[0my_test_inv\u001b[0m\u001b[0;34m[\u001b[0m\u001b[0;34m-\u001b[0m\u001b[0mhorizon\u001b[0m\u001b[0;34m-\u001b[0m\u001b[0;36m1\u001b[0m\u001b[0;34m,\u001b[0m \u001b[0;34m:\u001b[0m\u001b[0;34m]\u001b[0m\u001b[0;34m\u001b[0m\u001b[0;34m\u001b[0m\u001b[0m\n",
      "\u001b[0;31mTypeError\u001b[0m: 'function' object is not subscriptable"
     ]
    }
   ],
   "source": [
    "horizon=100\n",
    "\n",
    "V = predict[-horizon-1:, :]\n",
    "y = y_test_inv[-horizon-1:, :]\n",
    "V[0, :] = y_test_inv[-horizon-1, :]\n",
    "n = V.shape[1]\n",
    "initial_cash = 1000\n",
    "\n",
    "Cash = np.zeros((horizon+1, n + 1))\n",
    "Cash[0, -1] = initial_cash\n",
    "Cash[1, -1] = initial_cash\n",
    "print('n ', n)\n",
    "\n",
    "for t in range(2, horizon-1):\n",
    "    A = getActions(y, V, Cash, t)\n",
    "    Cash[t, :] = Cash[t-1, :]\n",
    "    b = 0\n",
    "    c = 0\n",
    "    \n",
    "    print('Jour ', t)\n",
    "    for a in A:        \n",
    "        if a[0] == 'SELL' and Cash[t, c] > 0:\n",
    "            print(str(a[0]) + ' ' + str(Cash[t, c]) + ' ' + str(curr_key[c]) + ' rate :' + str(y[t, c]))\n",
    "            \n",
    "            Cash[t, -1] = Cash[t, -1] + Cash[t, c]/y[t, c]\n",
    "            Cash[t, c] = Cash[t, c] -  Cash[t, c]\n",
    "            \n",
    "            \n",
    "            print('Euro after sell ', Cash[t, -1])\n",
    "        if a[0] == 'BUY':\n",
    "            b += 1\n",
    "        c += 1\n",
    "          \n",
    "    c = 0    \n",
    "    for a in A:\n",
    "            \n",
    "        if a[0] == 'BUY' and Cash[t, -1] > 0:\n",
    "            \n",
    "            print(str(a[0]) + ' ' + str(Cash[t, -1]*y[t, c]/b) + ' ' + str(curr_key[c]) + ' rate: ' + str(y[t, c]/b))\n",
    "            \n",
    "            Cash[t, c] = Cash[t, c] + Cash[t, -1]*y[t, c]/b\n",
    "            Cash[t, -1] = Cash[t, -1] - Cash[t, -1]/b\n",
    "            \n",
    "            print('Euro after buy ', Cash[t, -1])            \n",
    "        \n",
    "        c += 1\n",
    "    \n",
    "    print('Actions end of day: ', A)\n",
    "    print('Accounts status: ', Cash[t, :])\n",
    "    last_day = t\n",
    "\n",
    "final_cash = Cash[last_day, -1]\n",
    "print(final_cash)\n",
    "for i in range(n):\n",
    "    if y[last_day, i] != 0:\n",
    "        final_cash += Cash[last_day, i]/y[last_day, i]\n",
    "        initial_cash += Cash[1, i]/y[1, i]\n",
    "\n",
    "d_growth = (final_cash/initial_cash)**(1/(last_day - 2)) - 1\n",
    "                 \n",
    "print('Initial cash value (eur): ', initial_cash)\n",
    "print('Final cash value (eur): ', final_cash)\n",
    "print('Daily growth: ', d_growth, '%')\n",
    "print('Win: ', final_cash - initial_cash)"
   ]
  },
  {
   "cell_type": "code",
   "execution_count": 11,
   "metadata": {},
   "outputs": [],
   "source": [
    "def cost(M, P):\n",
    "    return -g(M, P)**2"
   ]
  },
  {
   "cell_type": "code",
   "execution_count": 12,
   "metadata": {},
   "outputs": [],
   "source": [
    "#### Note pour plus tard: dg a 30,4 dimension mais g a une\n",
    "## Définir fonction gain avec deltas\n",
    "def regGain(Delta, P):\n",
    "    n, m = Delta.shape[0], Delta.shape[1]\n",
    "    g = np.zeros((1, m*m))\n",
    "    for k in range(1, n):\n",
    "        for c in range(m*m):\n",
    "            \n",
    "            g[k, 0] = 1 - P[k, c1]/P[k, c2]\n",
    "    return g\n"
   ]
  },
  {
   "cell_type": "code",
   "execution_count": 13,
   "metadata": {},
   "outputs": [],
   "source": [
    "def regCost(Delta, P):\n",
    "    return regGain(Delta, P)"
   ]
  },
  {
   "cell_type": "code",
   "execution_count": 14,
   "metadata": {},
   "outputs": [
    {
     "ename": "TypeError",
     "evalue": "'function' object is not subscriptable",
     "output_type": "error",
     "traceback": [
      "\u001b[0;31m---------------------------------------------------------------------------\u001b[0m",
      "\u001b[0;31mTypeError\u001b[0m                                 Traceback (most recent call last)",
      "\u001b[0;32m<ipython-input-14-9c8baedae69c>\u001b[0m in \u001b[0;36m<module>\u001b[0;34m\u001b[0m\n\u001b[1;32m      1\u001b[0m \u001b[0;31m# Our initinal guess\u001b[0m\u001b[0;34m\u001b[0m\u001b[0;34m\u001b[0m\u001b[0;34m\u001b[0m\u001b[0m\n\u001b[1;32m      2\u001b[0m \u001b[0mhorizon\u001b[0m\u001b[0;34m=\u001b[0m\u001b[0;36m30\u001b[0m\u001b[0;34m\u001b[0m\u001b[0;34m\u001b[0m\u001b[0m\n\u001b[0;32m----> 3\u001b[0;31m \u001b[0mP\u001b[0m \u001b[0;34m=\u001b[0m \u001b[0mpredict\u001b[0m\u001b[0;34m[\u001b[0m\u001b[0;34m-\u001b[0m\u001b[0mhorizon\u001b[0m\u001b[0;34m:\u001b[0m\u001b[0;34m,\u001b[0m \u001b[0;34m:\u001b[0m\u001b[0;34m]\u001b[0m\u001b[0;34m\u001b[0m\u001b[0;34m\u001b[0m\u001b[0m\n\u001b[0m\u001b[1;32m      4\u001b[0m \u001b[0mprint\u001b[0m\u001b[0;34m(\u001b[0m\u001b[0mP\u001b[0m\u001b[0;34m.\u001b[0m\u001b[0mshape\u001b[0m\u001b[0;34m)\u001b[0m\u001b[0;34m\u001b[0m\u001b[0;34m\u001b[0m\u001b[0m\n\u001b[1;32m      5\u001b[0m \u001b[0malpha\u001b[0m \u001b[0;34m=\u001b[0m \u001b[0;36m.1\u001b[0m\u001b[0;34m\u001b[0m\u001b[0;34m\u001b[0m\u001b[0m\n",
      "\u001b[0;31mTypeError\u001b[0m: 'function' object is not subscriptable"
     ]
    }
   ],
   "source": [
    "# Our initinal guess\n",
    "horizon=30\n",
    "P = predict[-horizon:, :]\n",
    "print(P.shape)\n",
    "alpha = .1\n",
    "horizon=30\n",
    "\n",
    "epoch = 10000\n",
    "\n",
    "grad = P\n",
    "print(grad.shape)\n",
    "m = Delta.shape[1]\n",
    "Delta = np.random.rand(30, m*m)\n",
    "\n",
    "# Run the gradient\n",
    "for i in range(epoch):\n",
    "    current_M = M + alpha*regCost(Delta, P)\n",
    "    grad = current_M\n",
    "    M = current_M\n",
    "    \n",
    "    g = G(M, P)\n",
    "\n",
    "print(g)\n",
    "print(M)"
   ]
  }
 ],
 "metadata": {
  "kernelspec": {
   "display_name": "Python 3",
   "language": "python",
   "name": "python3"
  },
  "language_info": {
   "codemirror_mode": {
    "name": "ipython",
    "version": 3
   },
   "file_extension": ".py",
   "mimetype": "text/x-python",
   "name": "python",
   "nbconvert_exporter": "python",
   "pygments_lexer": "ipython3",
   "version": "3.7.3"
  }
 },
 "nbformat": 4,
 "nbformat_minor": 2
}
